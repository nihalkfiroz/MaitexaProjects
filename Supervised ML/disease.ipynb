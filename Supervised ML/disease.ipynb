{
 "cells": [
  {
   "cell_type": "code",
   "execution_count": 1,
   "metadata": {},
   "outputs": [],
   "source": [
    "import pandas as pd"
   ]
  },
  {
   "cell_type": "code",
   "execution_count": 2,
   "metadata": {},
   "outputs": [
    {
     "name": "stdout",
     "output_type": "stream",
     "text": [
      "      Age  Gender  Blood_Pressure Cholesterol  Glucose Smoking Alcohol_Intake  \\\n",
      "0    70.0    Male            92.0        High     78.0     Yes     Frequently   \n",
      "1    32.0  Female             NaN         Low     91.0     Yes          Never   \n",
      "2    38.0    Male           133.0      Normal    158.0     Yes          Never   \n",
      "3    68.0    Male            86.0      Normal     87.0     Yes          Never   \n",
      "4    25.0    Male           158.0         NaN    184.0     Yes   Occasionally   \n",
      "..    ...     ...             ...         ...      ...     ...            ...   \n",
      "395   NaN  Female           145.0         Low    145.0      No     Frequently   \n",
      "396  21.0    Male           120.0        High    170.0     Yes          Never   \n",
      "397  74.0    Male           124.0      Normal     83.0      No            NaN   \n",
      "398  27.0  Female            94.0         Low      NaN     Yes          Never   \n",
      "399  67.0    Male             NaN      Normal    193.0     Yes          Never   \n",
      "\n",
      "         Obesity  Exercise         Disease  ...  Respiratory_Rate   BMI  \\\n",
      "0         Normal  Moderate   Heart Disease  ...               NaN  38.0   \n",
      "1     Overweight       Low      No Disease  ...              29.0  25.0   \n",
      "2         Normal       NaN      No Disease  ...              25.0  36.0   \n",
      "3     Overweight       NaN      No Disease  ...              15.0  39.0   \n",
      "4     Overweight       Low        Diabetes  ...              15.0   NaN   \n",
      "..           ...       ...             ...  ...               ...   ...   \n",
      "395   Overweight       NaN             NaN  ...              19.0  36.0   \n",
      "396        Obese  Moderate  Kidney Disease  ...              19.0  33.0   \n",
      "397   Overweight  Moderate      No Disease  ...              12.0  24.0   \n",
      "398  Underweight       NaN   Heart Disease  ...              18.0  25.0   \n",
      "399   Overweight       NaN  Kidney Disease  ...              17.0  35.0   \n",
      "\n",
      "     Family_History Sleep_Hours  Daily_Steps  Sodium_Level  Potassium_Level  \\\n",
      "0               Yes         4.0       5458.0         133.0              5.0   \n",
      "1               Yes         NaN      12061.0         141.0              NaN   \n",
      "2               Yes         7.0      10604.0           NaN              5.0   \n",
      "3               Yes         5.0       1667.0         142.0              4.0   \n",
      "4               NaN         8.0       4370.0         134.0              5.0   \n",
      "..              ...         ...          ...           ...              ...   \n",
      "395              No         8.0      13489.0         138.0              4.0   \n",
      "396             Yes         8.0          NaN         141.0              4.0   \n",
      "397             Yes         8.0      11602.0         134.0              3.0   \n",
      "398             Yes         NaN       5987.0         140.0              3.0   \n",
      "399              No         5.0       7597.0         149.0              3.0   \n",
      "\n",
      "     Hemoglobin  White_Blood_Cells          Output  \n",
      "0          14.0                NaN  Kidney Disease  \n",
      "1          12.0             6620.0      No Disease  \n",
      "2          14.0             6646.0        Diabetes  \n",
      "3          13.0             8865.0         Obesity  \n",
      "4           NaN             6289.0        Diabetes  \n",
      "..          ...                ...             ...  \n",
      "395        12.0                NaN        Diabetes  \n",
      "396         NaN            10488.0        Diabetes  \n",
      "397        15.0             7231.0  Kidney Disease  \n",
      "398        17.0                NaN      No Disease  \n",
      "399        15.0             7983.0        Diabetes  \n",
      "\n",
      "[400 rows x 21 columns]\n"
     ]
    }
   ],
   "source": [
    "dp=pd.read_csv('disease_prediction.csv')\n",
    "print(dp)"
   ]
  },
  {
   "cell_type": "code",
   "execution_count": 3,
   "metadata": {},
   "outputs": [
    {
     "name": "stdout",
     "output_type": "stream",
     "text": [
      "<class 'pandas.core.frame.DataFrame'>\n",
      "RangeIndex: 400 entries, 0 to 399\n",
      "Data columns (total 21 columns):\n",
      " #   Column             Non-Null Count  Dtype  \n",
      "---  ------             --------------  -----  \n",
      " 0   Age                360 non-null    float64\n",
      " 1   Gender             360 non-null    object \n",
      " 2   Blood_Pressure     360 non-null    float64\n",
      " 3   Cholesterol        360 non-null    object \n",
      " 4   Glucose            360 non-null    float64\n",
      " 5   Smoking            360 non-null    object \n",
      " 6   Alcohol_Intake     360 non-null    object \n",
      " 7   Obesity            360 non-null    object \n",
      " 8   Exercise           268 non-null    object \n",
      " 9   Disease            360 non-null    object \n",
      " 10  Heart_Rate         360 non-null    float64\n",
      " 11  Respiratory_Rate   360 non-null    float64\n",
      " 12  BMI                360 non-null    float64\n",
      " 13  Family_History     360 non-null    object \n",
      " 14  Sleep_Hours        360 non-null    float64\n",
      " 15  Daily_Steps        360 non-null    float64\n",
      " 16  Sodium_Level       360 non-null    float64\n",
      " 17  Potassium_Level    360 non-null    float64\n",
      " 18  Hemoglobin         360 non-null    float64\n",
      " 19  White_Blood_Cells  360 non-null    float64\n",
      " 20  Output             400 non-null    object \n",
      "dtypes: float64(12), object(9)\n",
      "memory usage: 65.8+ KB\n"
     ]
    }
   ],
   "source": [
    "dp.info()"
   ]
  },
  {
   "cell_type": "code",
   "execution_count": 4,
   "metadata": {},
   "outputs": [
    {
     "data": {
      "text/html": [
       "<div>\n",
       "<style scoped>\n",
       "    .dataframe tbody tr th:only-of-type {\n",
       "        vertical-align: middle;\n",
       "    }\n",
       "\n",
       "    .dataframe tbody tr th {\n",
       "        vertical-align: top;\n",
       "    }\n",
       "\n",
       "    .dataframe thead th {\n",
       "        text-align: right;\n",
       "    }\n",
       "</style>\n",
       "<table border=\"1\" class=\"dataframe\">\n",
       "  <thead>\n",
       "    <tr style=\"text-align: right;\">\n",
       "      <th></th>\n",
       "      <th>Age</th>\n",
       "      <th>Gender</th>\n",
       "      <th>Blood_Pressure</th>\n",
       "      <th>Cholesterol</th>\n",
       "      <th>Glucose</th>\n",
       "      <th>Smoking</th>\n",
       "      <th>Alcohol_Intake</th>\n",
       "      <th>Obesity</th>\n",
       "      <th>Exercise</th>\n",
       "      <th>Disease</th>\n",
       "      <th>...</th>\n",
       "      <th>Respiratory_Rate</th>\n",
       "      <th>BMI</th>\n",
       "      <th>Family_History</th>\n",
       "      <th>Sleep_Hours</th>\n",
       "      <th>Daily_Steps</th>\n",
       "      <th>Sodium_Level</th>\n",
       "      <th>Potassium_Level</th>\n",
       "      <th>Hemoglobin</th>\n",
       "      <th>White_Blood_Cells</th>\n",
       "      <th>Output</th>\n",
       "    </tr>\n",
       "  </thead>\n",
       "  <tbody>\n",
       "    <tr>\n",
       "      <th>0</th>\n",
       "      <td>70.0</td>\n",
       "      <td>Male</td>\n",
       "      <td>92.0</td>\n",
       "      <td>High</td>\n",
       "      <td>78.0</td>\n",
       "      <td>Yes</td>\n",
       "      <td>Frequently</td>\n",
       "      <td>Normal</td>\n",
       "      <td>Moderate</td>\n",
       "      <td>Heart Disease</td>\n",
       "      <td>...</td>\n",
       "      <td>NaN</td>\n",
       "      <td>38.0</td>\n",
       "      <td>Yes</td>\n",
       "      <td>4.0</td>\n",
       "      <td>5458.0</td>\n",
       "      <td>133.0</td>\n",
       "      <td>5.0</td>\n",
       "      <td>14.0</td>\n",
       "      <td>NaN</td>\n",
       "      <td>Kidney Disease</td>\n",
       "    </tr>\n",
       "    <tr>\n",
       "      <th>1</th>\n",
       "      <td>32.0</td>\n",
       "      <td>Female</td>\n",
       "      <td>NaN</td>\n",
       "      <td>Low</td>\n",
       "      <td>91.0</td>\n",
       "      <td>Yes</td>\n",
       "      <td>Never</td>\n",
       "      <td>Overweight</td>\n",
       "      <td>Low</td>\n",
       "      <td>No Disease</td>\n",
       "      <td>...</td>\n",
       "      <td>29.0</td>\n",
       "      <td>25.0</td>\n",
       "      <td>Yes</td>\n",
       "      <td>NaN</td>\n",
       "      <td>12061.0</td>\n",
       "      <td>141.0</td>\n",
       "      <td>NaN</td>\n",
       "      <td>12.0</td>\n",
       "      <td>6620.0</td>\n",
       "      <td>No Disease</td>\n",
       "    </tr>\n",
       "    <tr>\n",
       "      <th>2</th>\n",
       "      <td>38.0</td>\n",
       "      <td>Male</td>\n",
       "      <td>133.0</td>\n",
       "      <td>Normal</td>\n",
       "      <td>158.0</td>\n",
       "      <td>Yes</td>\n",
       "      <td>Never</td>\n",
       "      <td>Normal</td>\n",
       "      <td>NaN</td>\n",
       "      <td>No Disease</td>\n",
       "      <td>...</td>\n",
       "      <td>25.0</td>\n",
       "      <td>36.0</td>\n",
       "      <td>Yes</td>\n",
       "      <td>7.0</td>\n",
       "      <td>10604.0</td>\n",
       "      <td>NaN</td>\n",
       "      <td>5.0</td>\n",
       "      <td>14.0</td>\n",
       "      <td>6646.0</td>\n",
       "      <td>Diabetes</td>\n",
       "    </tr>\n",
       "    <tr>\n",
       "      <th>3</th>\n",
       "      <td>68.0</td>\n",
       "      <td>Male</td>\n",
       "      <td>86.0</td>\n",
       "      <td>Normal</td>\n",
       "      <td>87.0</td>\n",
       "      <td>Yes</td>\n",
       "      <td>Never</td>\n",
       "      <td>Overweight</td>\n",
       "      <td>NaN</td>\n",
       "      <td>No Disease</td>\n",
       "      <td>...</td>\n",
       "      <td>15.0</td>\n",
       "      <td>39.0</td>\n",
       "      <td>Yes</td>\n",
       "      <td>5.0</td>\n",
       "      <td>1667.0</td>\n",
       "      <td>142.0</td>\n",
       "      <td>4.0</td>\n",
       "      <td>13.0</td>\n",
       "      <td>8865.0</td>\n",
       "      <td>Obesity</td>\n",
       "    </tr>\n",
       "    <tr>\n",
       "      <th>4</th>\n",
       "      <td>25.0</td>\n",
       "      <td>Male</td>\n",
       "      <td>158.0</td>\n",
       "      <td>NaN</td>\n",
       "      <td>184.0</td>\n",
       "      <td>Yes</td>\n",
       "      <td>Occasionally</td>\n",
       "      <td>Overweight</td>\n",
       "      <td>Low</td>\n",
       "      <td>Diabetes</td>\n",
       "      <td>...</td>\n",
       "      <td>15.0</td>\n",
       "      <td>NaN</td>\n",
       "      <td>NaN</td>\n",
       "      <td>8.0</td>\n",
       "      <td>4370.0</td>\n",
       "      <td>134.0</td>\n",
       "      <td>5.0</td>\n",
       "      <td>NaN</td>\n",
       "      <td>6289.0</td>\n",
       "      <td>Diabetes</td>\n",
       "    </tr>\n",
       "  </tbody>\n",
       "</table>\n",
       "<p>5 rows × 21 columns</p>\n",
       "</div>"
      ],
      "text/plain": [
       "    Age  Gender  Blood_Pressure Cholesterol  Glucose Smoking Alcohol_Intake  \\\n",
       "0  70.0    Male            92.0        High     78.0     Yes     Frequently   \n",
       "1  32.0  Female             NaN         Low     91.0     Yes          Never   \n",
       "2  38.0    Male           133.0      Normal    158.0     Yes          Never   \n",
       "3  68.0    Male            86.0      Normal     87.0     Yes          Never   \n",
       "4  25.0    Male           158.0         NaN    184.0     Yes   Occasionally   \n",
       "\n",
       "      Obesity  Exercise        Disease  ...  Respiratory_Rate   BMI  \\\n",
       "0      Normal  Moderate  Heart Disease  ...               NaN  38.0   \n",
       "1  Overweight       Low     No Disease  ...              29.0  25.0   \n",
       "2      Normal       NaN     No Disease  ...              25.0  36.0   \n",
       "3  Overweight       NaN     No Disease  ...              15.0  39.0   \n",
       "4  Overweight       Low       Diabetes  ...              15.0   NaN   \n",
       "\n",
       "   Family_History Sleep_Hours  Daily_Steps  Sodium_Level  Potassium_Level  \\\n",
       "0             Yes         4.0       5458.0         133.0              5.0   \n",
       "1             Yes         NaN      12061.0         141.0              NaN   \n",
       "2             Yes         7.0      10604.0           NaN              5.0   \n",
       "3             Yes         5.0       1667.0         142.0              4.0   \n",
       "4             NaN         8.0       4370.0         134.0              5.0   \n",
       "\n",
       "   Hemoglobin  White_Blood_Cells          Output  \n",
       "0        14.0                NaN  Kidney Disease  \n",
       "1        12.0             6620.0      No Disease  \n",
       "2        14.0             6646.0        Diabetes  \n",
       "3        13.0             8865.0         Obesity  \n",
       "4         NaN             6289.0        Diabetes  \n",
       "\n",
       "[5 rows x 21 columns]"
      ]
     },
     "execution_count": 4,
     "metadata": {},
     "output_type": "execute_result"
    }
   ],
   "source": [
    "dp.head()"
   ]
  },
  {
   "cell_type": "code",
   "execution_count": 5,
   "metadata": {},
   "outputs": [
    {
     "data": {
      "text/html": [
       "<div>\n",
       "<style scoped>\n",
       "    .dataframe tbody tr th:only-of-type {\n",
       "        vertical-align: middle;\n",
       "    }\n",
       "\n",
       "    .dataframe tbody tr th {\n",
       "        vertical-align: top;\n",
       "    }\n",
       "\n",
       "    .dataframe thead th {\n",
       "        text-align: right;\n",
       "    }\n",
       "</style>\n",
       "<table border=\"1\" class=\"dataframe\">\n",
       "  <thead>\n",
       "    <tr style=\"text-align: right;\">\n",
       "      <th></th>\n",
       "      <th>Age</th>\n",
       "      <th>Gender</th>\n",
       "      <th>Blood_Pressure</th>\n",
       "      <th>Cholesterol</th>\n",
       "      <th>Glucose</th>\n",
       "      <th>Smoking</th>\n",
       "      <th>Alcohol_Intake</th>\n",
       "      <th>Obesity</th>\n",
       "      <th>Exercise</th>\n",
       "      <th>Disease</th>\n",
       "      <th>...</th>\n",
       "      <th>Respiratory_Rate</th>\n",
       "      <th>BMI</th>\n",
       "      <th>Family_History</th>\n",
       "      <th>Sleep_Hours</th>\n",
       "      <th>Daily_Steps</th>\n",
       "      <th>Sodium_Level</th>\n",
       "      <th>Potassium_Level</th>\n",
       "      <th>Hemoglobin</th>\n",
       "      <th>White_Blood_Cells</th>\n",
       "      <th>Output</th>\n",
       "    </tr>\n",
       "  </thead>\n",
       "  <tbody>\n",
       "    <tr>\n",
       "      <th>395</th>\n",
       "      <td>NaN</td>\n",
       "      <td>Female</td>\n",
       "      <td>145.0</td>\n",
       "      <td>Low</td>\n",
       "      <td>145.0</td>\n",
       "      <td>No</td>\n",
       "      <td>Frequently</td>\n",
       "      <td>Overweight</td>\n",
       "      <td>NaN</td>\n",
       "      <td>NaN</td>\n",
       "      <td>...</td>\n",
       "      <td>19.0</td>\n",
       "      <td>36.0</td>\n",
       "      <td>No</td>\n",
       "      <td>8.0</td>\n",
       "      <td>13489.0</td>\n",
       "      <td>138.0</td>\n",
       "      <td>4.0</td>\n",
       "      <td>12.0</td>\n",
       "      <td>NaN</td>\n",
       "      <td>Diabetes</td>\n",
       "    </tr>\n",
       "    <tr>\n",
       "      <th>396</th>\n",
       "      <td>21.0</td>\n",
       "      <td>Male</td>\n",
       "      <td>120.0</td>\n",
       "      <td>High</td>\n",
       "      <td>170.0</td>\n",
       "      <td>Yes</td>\n",
       "      <td>Never</td>\n",
       "      <td>Obese</td>\n",
       "      <td>Moderate</td>\n",
       "      <td>Kidney Disease</td>\n",
       "      <td>...</td>\n",
       "      <td>19.0</td>\n",
       "      <td>33.0</td>\n",
       "      <td>Yes</td>\n",
       "      <td>8.0</td>\n",
       "      <td>NaN</td>\n",
       "      <td>141.0</td>\n",
       "      <td>4.0</td>\n",
       "      <td>NaN</td>\n",
       "      <td>10488.0</td>\n",
       "      <td>Diabetes</td>\n",
       "    </tr>\n",
       "    <tr>\n",
       "      <th>397</th>\n",
       "      <td>74.0</td>\n",
       "      <td>Male</td>\n",
       "      <td>124.0</td>\n",
       "      <td>Normal</td>\n",
       "      <td>83.0</td>\n",
       "      <td>No</td>\n",
       "      <td>NaN</td>\n",
       "      <td>Overweight</td>\n",
       "      <td>Moderate</td>\n",
       "      <td>No Disease</td>\n",
       "      <td>...</td>\n",
       "      <td>12.0</td>\n",
       "      <td>24.0</td>\n",
       "      <td>Yes</td>\n",
       "      <td>8.0</td>\n",
       "      <td>11602.0</td>\n",
       "      <td>134.0</td>\n",
       "      <td>3.0</td>\n",
       "      <td>15.0</td>\n",
       "      <td>7231.0</td>\n",
       "      <td>Kidney Disease</td>\n",
       "    </tr>\n",
       "    <tr>\n",
       "      <th>398</th>\n",
       "      <td>27.0</td>\n",
       "      <td>Female</td>\n",
       "      <td>94.0</td>\n",
       "      <td>Low</td>\n",
       "      <td>NaN</td>\n",
       "      <td>Yes</td>\n",
       "      <td>Never</td>\n",
       "      <td>Underweight</td>\n",
       "      <td>NaN</td>\n",
       "      <td>Heart Disease</td>\n",
       "      <td>...</td>\n",
       "      <td>18.0</td>\n",
       "      <td>25.0</td>\n",
       "      <td>Yes</td>\n",
       "      <td>NaN</td>\n",
       "      <td>5987.0</td>\n",
       "      <td>140.0</td>\n",
       "      <td>3.0</td>\n",
       "      <td>17.0</td>\n",
       "      <td>NaN</td>\n",
       "      <td>No Disease</td>\n",
       "    </tr>\n",
       "    <tr>\n",
       "      <th>399</th>\n",
       "      <td>67.0</td>\n",
       "      <td>Male</td>\n",
       "      <td>NaN</td>\n",
       "      <td>Normal</td>\n",
       "      <td>193.0</td>\n",
       "      <td>Yes</td>\n",
       "      <td>Never</td>\n",
       "      <td>Overweight</td>\n",
       "      <td>NaN</td>\n",
       "      <td>Kidney Disease</td>\n",
       "      <td>...</td>\n",
       "      <td>17.0</td>\n",
       "      <td>35.0</td>\n",
       "      <td>No</td>\n",
       "      <td>5.0</td>\n",
       "      <td>7597.0</td>\n",
       "      <td>149.0</td>\n",
       "      <td>3.0</td>\n",
       "      <td>15.0</td>\n",
       "      <td>7983.0</td>\n",
       "      <td>Diabetes</td>\n",
       "    </tr>\n",
       "  </tbody>\n",
       "</table>\n",
       "<p>5 rows × 21 columns</p>\n",
       "</div>"
      ],
      "text/plain": [
       "      Age  Gender  Blood_Pressure Cholesterol  Glucose Smoking Alcohol_Intake  \\\n",
       "395   NaN  Female           145.0         Low    145.0      No     Frequently   \n",
       "396  21.0    Male           120.0        High    170.0     Yes          Never   \n",
       "397  74.0    Male           124.0      Normal     83.0      No            NaN   \n",
       "398  27.0  Female            94.0         Low      NaN     Yes          Never   \n",
       "399  67.0    Male             NaN      Normal    193.0     Yes          Never   \n",
       "\n",
       "         Obesity  Exercise         Disease  ...  Respiratory_Rate   BMI  \\\n",
       "395   Overweight       NaN             NaN  ...              19.0  36.0   \n",
       "396        Obese  Moderate  Kidney Disease  ...              19.0  33.0   \n",
       "397   Overweight  Moderate      No Disease  ...              12.0  24.0   \n",
       "398  Underweight       NaN   Heart Disease  ...              18.0  25.0   \n",
       "399   Overweight       NaN  Kidney Disease  ...              17.0  35.0   \n",
       "\n",
       "     Family_History Sleep_Hours  Daily_Steps  Sodium_Level  Potassium_Level  \\\n",
       "395              No         8.0      13489.0         138.0              4.0   \n",
       "396             Yes         8.0          NaN         141.0              4.0   \n",
       "397             Yes         8.0      11602.0         134.0              3.0   \n",
       "398             Yes         NaN       5987.0         140.0              3.0   \n",
       "399              No         5.0       7597.0         149.0              3.0   \n",
       "\n",
       "     Hemoglobin  White_Blood_Cells          Output  \n",
       "395        12.0                NaN        Diabetes  \n",
       "396         NaN            10488.0        Diabetes  \n",
       "397        15.0             7231.0  Kidney Disease  \n",
       "398        17.0                NaN      No Disease  \n",
       "399        15.0             7983.0        Diabetes  \n",
       "\n",
       "[5 rows x 21 columns]"
      ]
     },
     "execution_count": 5,
     "metadata": {},
     "output_type": "execute_result"
    }
   ],
   "source": [
    "dp.tail()"
   ]
  },
  {
   "cell_type": "code",
   "execution_count": 6,
   "metadata": {},
   "outputs": [
    {
     "data": {
      "text/plain": [
       "Age                   40\n",
       "Gender                40\n",
       "Blood_Pressure        40\n",
       "Cholesterol           40\n",
       "Glucose               40\n",
       "Smoking               40\n",
       "Alcohol_Intake        40\n",
       "Obesity               40\n",
       "Exercise             132\n",
       "Disease               40\n",
       "Heart_Rate            40\n",
       "Respiratory_Rate      40\n",
       "BMI                   40\n",
       "Family_History        40\n",
       "Sleep_Hours           40\n",
       "Daily_Steps           40\n",
       "Sodium_Level          40\n",
       "Potassium_Level       40\n",
       "Hemoglobin            40\n",
       "White_Blood_Cells     40\n",
       "Output                 0\n",
       "dtype: int64"
      ]
     },
     "execution_count": 6,
     "metadata": {},
     "output_type": "execute_result"
    }
   ],
   "source": [
    "dp.isna().sum()"
   ]
  },
  {
   "cell_type": "code",
   "execution_count": 7,
   "metadata": {},
   "outputs": [
    {
     "data": {
      "text/html": [
       "<div>\n",
       "<style scoped>\n",
       "    .dataframe tbody tr th:only-of-type {\n",
       "        vertical-align: middle;\n",
       "    }\n",
       "\n",
       "    .dataframe tbody tr th {\n",
       "        vertical-align: top;\n",
       "    }\n",
       "\n",
       "    .dataframe thead th {\n",
       "        text-align: right;\n",
       "    }\n",
       "</style>\n",
       "<table border=\"1\" class=\"dataframe\">\n",
       "  <thead>\n",
       "    <tr style=\"text-align: right;\">\n",
       "      <th></th>\n",
       "      <th>Age</th>\n",
       "      <th>Blood_Pressure</th>\n",
       "      <th>Glucose</th>\n",
       "      <th>Heart_Rate</th>\n",
       "      <th>Respiratory_Rate</th>\n",
       "      <th>BMI</th>\n",
       "      <th>Sleep_Hours</th>\n",
       "      <th>Daily_Steps</th>\n",
       "      <th>Sodium_Level</th>\n",
       "      <th>Potassium_Level</th>\n",
       "      <th>Hemoglobin</th>\n",
       "      <th>White_Blood_Cells</th>\n",
       "    </tr>\n",
       "  </thead>\n",
       "  <tbody>\n",
       "    <tr>\n",
       "      <th>count</th>\n",
       "      <td>360.000000</td>\n",
       "      <td>360.000000</td>\n",
       "      <td>360.000000</td>\n",
       "      <td>360.000000</td>\n",
       "      <td>360.000000</td>\n",
       "      <td>360.000000</td>\n",
       "      <td>360.000000</td>\n",
       "      <td>360.000000</td>\n",
       "      <td>360.000000</td>\n",
       "      <td>360.00000</td>\n",
       "      <td>360.000000</td>\n",
       "      <td>360.000000</td>\n",
       "    </tr>\n",
       "    <tr>\n",
       "      <th>mean</th>\n",
       "      <td>50.797222</td>\n",
       "      <td>127.519444</td>\n",
       "      <td>137.066667</td>\n",
       "      <td>90.958333</td>\n",
       "      <td>20.113889</td>\n",
       "      <td>28.605556</td>\n",
       "      <td>6.502778</td>\n",
       "      <td>7980.369444</td>\n",
       "      <td>139.180556</td>\n",
       "      <td>4.00000</td>\n",
       "      <td>13.372222</td>\n",
       "      <td>7456.125000</td>\n",
       "    </tr>\n",
       "    <tr>\n",
       "      <th>std</th>\n",
       "      <td>16.738709</td>\n",
       "      <td>27.399544</td>\n",
       "      <td>38.533074</td>\n",
       "      <td>16.713911</td>\n",
       "      <td>5.161549</td>\n",
       "      <td>6.432419</td>\n",
       "      <td>1.667314</td>\n",
       "      <td>3978.969838</td>\n",
       "      <td>5.670444</td>\n",
       "      <td>0.82779</td>\n",
       "      <td>2.405960</td>\n",
       "      <td>1950.802317</td>\n",
       "    </tr>\n",
       "    <tr>\n",
       "      <th>min</th>\n",
       "      <td>20.000000</td>\n",
       "      <td>80.000000</td>\n",
       "      <td>71.000000</td>\n",
       "      <td>60.000000</td>\n",
       "      <td>12.000000</td>\n",
       "      <td>18.000000</td>\n",
       "      <td>4.000000</td>\n",
       "      <td>1028.000000</td>\n",
       "      <td>130.000000</td>\n",
       "      <td>3.00000</td>\n",
       "      <td>10.000000</td>\n",
       "      <td>4051.000000</td>\n",
       "    </tr>\n",
       "    <tr>\n",
       "      <th>25%</th>\n",
       "      <td>36.000000</td>\n",
       "      <td>105.000000</td>\n",
       "      <td>101.000000</td>\n",
       "      <td>77.000000</td>\n",
       "      <td>16.000000</td>\n",
       "      <td>23.000000</td>\n",
       "      <td>5.000000</td>\n",
       "      <td>4615.500000</td>\n",
       "      <td>134.750000</td>\n",
       "      <td>3.00000</td>\n",
       "      <td>11.000000</td>\n",
       "      <td>5757.500000</td>\n",
       "    </tr>\n",
       "    <tr>\n",
       "      <th>50%</th>\n",
       "      <td>52.000000</td>\n",
       "      <td>127.000000</td>\n",
       "      <td>141.000000</td>\n",
       "      <td>91.500000</td>\n",
       "      <td>20.000000</td>\n",
       "      <td>29.000000</td>\n",
       "      <td>6.000000</td>\n",
       "      <td>7997.500000</td>\n",
       "      <td>139.000000</td>\n",
       "      <td>4.00000</td>\n",
       "      <td>13.000000</td>\n",
       "      <td>7345.500000</td>\n",
       "    </tr>\n",
       "    <tr>\n",
       "      <th>75%</th>\n",
       "      <td>64.250000</td>\n",
       "      <td>150.250000</td>\n",
       "      <td>172.000000</td>\n",
       "      <td>106.000000</td>\n",
       "      <td>24.000000</td>\n",
       "      <td>34.250000</td>\n",
       "      <td>8.000000</td>\n",
       "      <td>11389.000000</td>\n",
       "      <td>144.000000</td>\n",
       "      <td>5.00000</td>\n",
       "      <td>15.000000</td>\n",
       "      <td>9089.250000</td>\n",
       "    </tr>\n",
       "    <tr>\n",
       "      <th>max</th>\n",
       "      <td>79.000000</td>\n",
       "      <td>179.000000</td>\n",
       "      <td>199.000000</td>\n",
       "      <td>119.000000</td>\n",
       "      <td>29.000000</td>\n",
       "      <td>39.000000</td>\n",
       "      <td>9.000000</td>\n",
       "      <td>14947.000000</td>\n",
       "      <td>149.000000</td>\n",
       "      <td>5.00000</td>\n",
       "      <td>17.000000</td>\n",
       "      <td>10993.000000</td>\n",
       "    </tr>\n",
       "  </tbody>\n",
       "</table>\n",
       "</div>"
      ],
      "text/plain": [
       "              Age  Blood_Pressure     Glucose  Heart_Rate  Respiratory_Rate  \\\n",
       "count  360.000000      360.000000  360.000000  360.000000        360.000000   \n",
       "mean    50.797222      127.519444  137.066667   90.958333         20.113889   \n",
       "std     16.738709       27.399544   38.533074   16.713911          5.161549   \n",
       "min     20.000000       80.000000   71.000000   60.000000         12.000000   \n",
       "25%     36.000000      105.000000  101.000000   77.000000         16.000000   \n",
       "50%     52.000000      127.000000  141.000000   91.500000         20.000000   \n",
       "75%     64.250000      150.250000  172.000000  106.000000         24.000000   \n",
       "max     79.000000      179.000000  199.000000  119.000000         29.000000   \n",
       "\n",
       "              BMI  Sleep_Hours   Daily_Steps  Sodium_Level  Potassium_Level  \\\n",
       "count  360.000000   360.000000    360.000000    360.000000        360.00000   \n",
       "mean    28.605556     6.502778   7980.369444    139.180556          4.00000   \n",
       "std      6.432419     1.667314   3978.969838      5.670444          0.82779   \n",
       "min     18.000000     4.000000   1028.000000    130.000000          3.00000   \n",
       "25%     23.000000     5.000000   4615.500000    134.750000          3.00000   \n",
       "50%     29.000000     6.000000   7997.500000    139.000000          4.00000   \n",
       "75%     34.250000     8.000000  11389.000000    144.000000          5.00000   \n",
       "max     39.000000     9.000000  14947.000000    149.000000          5.00000   \n",
       "\n",
       "       Hemoglobin  White_Blood_Cells  \n",
       "count  360.000000         360.000000  \n",
       "mean    13.372222        7456.125000  \n",
       "std      2.405960        1950.802317  \n",
       "min     10.000000        4051.000000  \n",
       "25%     11.000000        5757.500000  \n",
       "50%     13.000000        7345.500000  \n",
       "75%     15.000000        9089.250000  \n",
       "max     17.000000       10993.000000  "
      ]
     },
     "execution_count": 7,
     "metadata": {},
     "output_type": "execute_result"
    }
   ],
   "source": [
    "dp.describe()"
   ]
  },
  {
   "cell_type": "code",
   "execution_count": 8,
   "metadata": {},
   "outputs": [
    {
     "name": "stderr",
     "output_type": "stream",
     "text": [
      "C:\\Users\\nihal\\AppData\\Local\\Temp\\ipykernel_8208\\1396758405.py:1: FutureWarning: A value is trying to be set on a copy of a DataFrame or Series through chained assignment using an inplace method.\n",
      "The behavior will change in pandas 3.0. This inplace method will never work because the intermediate object on which we are setting values always behaves as a copy.\n",
      "\n",
      "For example, when doing 'df[col].method(value, inplace=True)', try using 'df.method({col: value}, inplace=True)' or df[col] = df[col].method(value) instead, to perform the operation inplace on the original object.\n",
      "\n",
      "\n",
      "  dp['Age'].fillna(51,inplace=True)\n"
     ]
    }
   ],
   "source": [
    "dp['Age'].fillna(51,inplace=True)"
   ]
  },
  {
   "cell_type": "code",
   "execution_count": 9,
   "metadata": {},
   "outputs": [
    {
     "name": "stderr",
     "output_type": "stream",
     "text": [
      "C:\\Users\\nihal\\AppData\\Local\\Temp\\ipykernel_8208\\2789722280.py:2: FutureWarning: DataFrame.backfill/Series.backfill is deprecated. Use DataFrame.bfill/Series.bfill instead\n",
      "  dp['Gender'].backfill(inplace=True)\n"
     ]
    }
   ],
   "source": [
    "dp['Gender'].value_counts()\n",
    "dp['Gender'].backfill(inplace=True)\n",
    "\n"
   ]
  },
  {
   "cell_type": "code",
   "execution_count": 10,
   "metadata": {},
   "outputs": [
    {
     "name": "stderr",
     "output_type": "stream",
     "text": [
      "C:\\Users\\nihal\\AppData\\Local\\Temp\\ipykernel_8208\\1337692052.py:1: FutureWarning: A value is trying to be set on a copy of a DataFrame or Series through chained assignment using an inplace method.\n",
      "The behavior will change in pandas 3.0. This inplace method will never work because the intermediate object on which we are setting values always behaves as a copy.\n",
      "\n",
      "For example, when doing 'df[col].method(value, inplace=True)', try using 'df.method({col: value}, inplace=True)' or df[col] = df[col].method(value) instead, to perform the operation inplace on the original object.\n",
      "\n",
      "\n",
      "  dp['Blood_Pressure'].fillna(128,inplace=True)\n"
     ]
    }
   ],
   "source": [
    "dp['Blood_Pressure'].fillna(128,inplace=True)"
   ]
  },
  {
   "cell_type": "code",
   "execution_count": 11,
   "metadata": {},
   "outputs": [
    {
     "name": "stderr",
     "output_type": "stream",
     "text": [
      "C:\\Users\\nihal\\AppData\\Local\\Temp\\ipykernel_8208\\134023026.py:1: FutureWarning: DataFrame.backfill/Series.backfill is deprecated. Use DataFrame.bfill/Series.bfill instead\n",
      "  dp['Cholesterol'].backfill(inplace=True)\n"
     ]
    },
    {
     "data": {
      "text/plain": [
       "Cholesterol\n",
       "High      147\n",
       "Normal    142\n",
       "Low       111\n",
       "Name: count, dtype: int64"
      ]
     },
     "execution_count": 11,
     "metadata": {},
     "output_type": "execute_result"
    }
   ],
   "source": [
    "dp['Cholesterol'].backfill(inplace=True)\n",
    "dp['Cholesterol'].value_counts()"
   ]
  },
  {
   "cell_type": "code",
   "execution_count": 12,
   "metadata": {},
   "outputs": [
    {
     "name": "stderr",
     "output_type": "stream",
     "text": [
      "C:\\Users\\nihal\\AppData\\Local\\Temp\\ipykernel_8208\\4276720964.py:1: FutureWarning: A value is trying to be set on a copy of a DataFrame or Series through chained assignment using an inplace method.\n",
      "The behavior will change in pandas 3.0. This inplace method will never work because the intermediate object on which we are setting values always behaves as a copy.\n",
      "\n",
      "For example, when doing 'df[col].method(value, inplace=True)', try using 'df.method({col: value}, inplace=True)' or df[col] = df[col].method(value) instead, to perform the operation inplace on the original object.\n",
      "\n",
      "\n",
      "  dp['Glucose'].fillna(137,inplace=True)\n"
     ]
    }
   ],
   "source": [
    "dp['Glucose'].fillna(137,inplace=True)"
   ]
  },
  {
   "cell_type": "code",
   "execution_count": 13,
   "metadata": {},
   "outputs": [
    {
     "name": "stderr",
     "output_type": "stream",
     "text": [
      "C:\\Users\\nihal\\AppData\\Local\\Temp\\ipykernel_8208\\3804542598.py:1: FutureWarning: DataFrame.backfill/Series.backfill is deprecated. Use DataFrame.bfill/Series.bfill instead\n",
      "  dp['Smoking'].backfill(inplace=True)\n"
     ]
    }
   ],
   "source": [
    "dp['Smoking'].backfill(inplace=True)"
   ]
  },
  {
   "cell_type": "code",
   "execution_count": 14,
   "metadata": {},
   "outputs": [
    {
     "name": "stderr",
     "output_type": "stream",
     "text": [
      "C:\\Users\\nihal\\AppData\\Local\\Temp\\ipykernel_8208\\364508684.py:1: FutureWarning: A value is trying to be set on a copy of a DataFrame or Series through chained assignment using an inplace method.\n",
      "The behavior will change in pandas 3.0. This inplace method will never work because the intermediate object on which we are setting values always behaves as a copy.\n",
      "\n",
      "For example, when doing 'df[col].method(value, inplace=True)', try using 'df.method({col: value}, inplace=True)' or df[col] = df[col].method(value) instead, to perform the operation inplace on the original object.\n",
      "\n",
      "\n",
      "  dp['Alcohol_Intake'].ffill(inplace=True)\n"
     ]
    }
   ],
   "source": [
    "dp['Alcohol_Intake'].ffill(inplace=True)"
   ]
  },
  {
   "cell_type": "code",
   "execution_count": 15,
   "metadata": {},
   "outputs": [
    {
     "name": "stderr",
     "output_type": "stream",
     "text": [
      "C:\\Users\\nihal\\AppData\\Local\\Temp\\ipykernel_8208\\1639746385.py:1: FutureWarning: DataFrame.backfill/Series.backfill is deprecated. Use DataFrame.bfill/Series.bfill instead\n",
      "  dp['Obesity'].backfill(inplace=True)\n"
     ]
    }
   ],
   "source": [
    "dp['Obesity'].backfill(inplace=True)"
   ]
  },
  {
   "cell_type": "code",
   "execution_count": 16,
   "metadata": {},
   "outputs": [
    {
     "name": "stderr",
     "output_type": "stream",
     "text": [
      "C:\\Users\\nihal\\AppData\\Local\\Temp\\ipykernel_8208\\4193958389.py:1: FutureWarning: A value is trying to be set on a copy of a DataFrame or Series through chained assignment using an inplace method.\n",
      "The behavior will change in pandas 3.0. This inplace method will never work because the intermediate object on which we are setting values always behaves as a copy.\n",
      "\n",
      "For example, when doing 'df[col].method(value, inplace=True)', try using 'df.method({col: value}, inplace=True)' or df[col] = df[col].method(value) instead, to perform the operation inplace on the original object.\n",
      "\n",
      "\n",
      "  dp['Exercise'].ffill(inplace=True)\n"
     ]
    }
   ],
   "source": [
    "dp['Exercise'].ffill(inplace=True)"
   ]
  },
  {
   "cell_type": "code",
   "execution_count": 17,
   "metadata": {},
   "outputs": [
    {
     "name": "stderr",
     "output_type": "stream",
     "text": [
      "C:\\Users\\nihal\\AppData\\Local\\Temp\\ipykernel_8208\\391653145.py:1: FutureWarning: DataFrame.backfill/Series.backfill is deprecated. Use DataFrame.bfill/Series.bfill instead\n",
      "  dp['Disease'].backfill(inplace=True)\n"
     ]
    }
   ],
   "source": [
    "dp['Disease'].backfill(inplace=True)"
   ]
  },
  {
   "cell_type": "code",
   "execution_count": 18,
   "metadata": {},
   "outputs": [
    {
     "name": "stderr",
     "output_type": "stream",
     "text": [
      "C:\\Users\\nihal\\AppData\\Local\\Temp\\ipykernel_8208\\3914546321.py:1: FutureWarning: A value is trying to be set on a copy of a DataFrame or Series through chained assignment using an inplace method.\n",
      "The behavior will change in pandas 3.0. This inplace method will never work because the intermediate object on which we are setting values always behaves as a copy.\n",
      "\n",
      "For example, when doing 'df[col].method(value, inplace=True)', try using 'df.method({col: value}, inplace=True)' or df[col] = df[col].method(value) instead, to perform the operation inplace on the original object.\n",
      "\n",
      "\n",
      "  dp['Heart_Rate'].fillna(91,inplace=True)\n"
     ]
    }
   ],
   "source": [
    "dp['Heart_Rate'].fillna(91,inplace=True)"
   ]
  },
  {
   "cell_type": "code",
   "execution_count": 19,
   "metadata": {},
   "outputs": [
    {
     "name": "stderr",
     "output_type": "stream",
     "text": [
      "C:\\Users\\nihal\\AppData\\Local\\Temp\\ipykernel_8208\\1635916501.py:1: FutureWarning: A value is trying to be set on a copy of a DataFrame or Series through chained assignment using an inplace method.\n",
      "The behavior will change in pandas 3.0. This inplace method will never work because the intermediate object on which we are setting values always behaves as a copy.\n",
      "\n",
      "For example, when doing 'df[col].method(value, inplace=True)', try using 'df.method({col: value}, inplace=True)' or df[col] = df[col].method(value) instead, to perform the operation inplace on the original object.\n",
      "\n",
      "\n",
      "  dp['Respiratory_Rate'].fillna(20,inplace=True)\n"
     ]
    }
   ],
   "source": [
    "dp['Respiratory_Rate'].fillna(20,inplace=True)"
   ]
  },
  {
   "cell_type": "code",
   "execution_count": 20,
   "metadata": {},
   "outputs": [
    {
     "name": "stderr",
     "output_type": "stream",
     "text": [
      "C:\\Users\\nihal\\AppData\\Local\\Temp\\ipykernel_8208\\1403487984.py:1: FutureWarning: A value is trying to be set on a copy of a DataFrame or Series through chained assignment using an inplace method.\n",
      "The behavior will change in pandas 3.0. This inplace method will never work because the intermediate object on which we are setting values always behaves as a copy.\n",
      "\n",
      "For example, when doing 'df[col].method(value, inplace=True)', try using 'df.method({col: value}, inplace=True)' or df[col] = df[col].method(value) instead, to perform the operation inplace on the original object.\n",
      "\n",
      "\n",
      "  dp['BMI'].fillna(29,inplace=True)\n"
     ]
    }
   ],
   "source": [
    "dp['BMI'].fillna(29,inplace=True)"
   ]
  },
  {
   "cell_type": "code",
   "execution_count": 21,
   "metadata": {},
   "outputs": [
    {
     "name": "stderr",
     "output_type": "stream",
     "text": [
      "C:\\Users\\nihal\\AppData\\Local\\Temp\\ipykernel_8208\\2107393748.py:1: FutureWarning: DataFrame.backfill/Series.backfill is deprecated. Use DataFrame.bfill/Series.bfill instead\n",
      "  dp['Family_History'].backfill(inplace=True)\n"
     ]
    }
   ],
   "source": [
    "dp['Family_History'].backfill(inplace=True)"
   ]
  },
  {
   "cell_type": "code",
   "execution_count": 22,
   "metadata": {},
   "outputs": [
    {
     "name": "stderr",
     "output_type": "stream",
     "text": [
      "C:\\Users\\nihal\\AppData\\Local\\Temp\\ipykernel_8208\\411639461.py:1: FutureWarning: A value is trying to be set on a copy of a DataFrame or Series through chained assignment using an inplace method.\n",
      "The behavior will change in pandas 3.0. This inplace method will never work because the intermediate object on which we are setting values always behaves as a copy.\n",
      "\n",
      "For example, when doing 'df[col].method(value, inplace=True)', try using 'df.method({col: value}, inplace=True)' or df[col] = df[col].method(value) instead, to perform the operation inplace on the original object.\n",
      "\n",
      "\n",
      "  dp['Sleep_Hours'].fillna(7,inplace=True)\n"
     ]
    }
   ],
   "source": [
    "dp['Sleep_Hours'].fillna(7,inplace=True)"
   ]
  },
  {
   "cell_type": "code",
   "execution_count": 23,
   "metadata": {},
   "outputs": [
    {
     "name": "stderr",
     "output_type": "stream",
     "text": [
      "C:\\Users\\nihal\\AppData\\Local\\Temp\\ipykernel_8208\\1404944680.py:1: FutureWarning: A value is trying to be set on a copy of a DataFrame or Series through chained assignment using an inplace method.\n",
      "The behavior will change in pandas 3.0. This inplace method will never work because the intermediate object on which we are setting values always behaves as a copy.\n",
      "\n",
      "For example, when doing 'df[col].method(value, inplace=True)', try using 'df.method({col: value}, inplace=True)' or df[col] = df[col].method(value) instead, to perform the operation inplace on the original object.\n",
      "\n",
      "\n",
      "  dp['Daily_Steps'].fillna(7980,inplace=True)\n"
     ]
    }
   ],
   "source": [
    "dp['Daily_Steps'].fillna(7980,inplace=True)"
   ]
  },
  {
   "cell_type": "code",
   "execution_count": 24,
   "metadata": {},
   "outputs": [
    {
     "name": "stderr",
     "output_type": "stream",
     "text": [
      "C:\\Users\\nihal\\AppData\\Local\\Temp\\ipykernel_8208\\247879503.py:1: FutureWarning: A value is trying to be set on a copy of a DataFrame or Series through chained assignment using an inplace method.\n",
      "The behavior will change in pandas 3.0. This inplace method will never work because the intermediate object on which we are setting values always behaves as a copy.\n",
      "\n",
      "For example, when doing 'df[col].method(value, inplace=True)', try using 'df.method({col: value}, inplace=True)' or df[col] = df[col].method(value) instead, to perform the operation inplace on the original object.\n",
      "\n",
      "\n",
      "  dp['Sodium_Level'].fillna(139,inplace=True)\n"
     ]
    }
   ],
   "source": [
    "dp['Sodium_Level'].fillna(139,inplace=True)"
   ]
  },
  {
   "cell_type": "code",
   "execution_count": 25,
   "metadata": {},
   "outputs": [
    {
     "name": "stderr",
     "output_type": "stream",
     "text": [
      "C:\\Users\\nihal\\AppData\\Local\\Temp\\ipykernel_8208\\3173172199.py:1: FutureWarning: A value is trying to be set on a copy of a DataFrame or Series through chained assignment using an inplace method.\n",
      "The behavior will change in pandas 3.0. This inplace method will never work because the intermediate object on which we are setting values always behaves as a copy.\n",
      "\n",
      "For example, when doing 'df[col].method(value, inplace=True)', try using 'df.method({col: value}, inplace=True)' or df[col] = df[col].method(value) instead, to perform the operation inplace on the original object.\n",
      "\n",
      "\n",
      "  dp['Potassium_Level'].fillna(4,inplace=True)\n"
     ]
    }
   ],
   "source": [
    "dp['Potassium_Level'].fillna(4,inplace=True)"
   ]
  },
  {
   "cell_type": "code",
   "execution_count": 26,
   "metadata": {},
   "outputs": [
    {
     "name": "stderr",
     "output_type": "stream",
     "text": [
      "C:\\Users\\nihal\\AppData\\Local\\Temp\\ipykernel_8208\\2453729877.py:1: FutureWarning: A value is trying to be set on a copy of a DataFrame or Series through chained assignment using an inplace method.\n",
      "The behavior will change in pandas 3.0. This inplace method will never work because the intermediate object on which we are setting values always behaves as a copy.\n",
      "\n",
      "For example, when doing 'df[col].method(value, inplace=True)', try using 'df.method({col: value}, inplace=True)' or df[col] = df[col].method(value) instead, to perform the operation inplace on the original object.\n",
      "\n",
      "\n",
      "  dp['Hemoglobin'].fillna(13,inplace=True)\n"
     ]
    }
   ],
   "source": [
    "dp['Hemoglobin'].fillna(13,inplace=True)"
   ]
  },
  {
   "cell_type": "code",
   "execution_count": 27,
   "metadata": {},
   "outputs": [
    {
     "name": "stderr",
     "output_type": "stream",
     "text": [
      "C:\\Users\\nihal\\AppData\\Local\\Temp\\ipykernel_8208\\1809745323.py:1: FutureWarning: A value is trying to be set on a copy of a DataFrame or Series through chained assignment using an inplace method.\n",
      "The behavior will change in pandas 3.0. This inplace method will never work because the intermediate object on which we are setting values always behaves as a copy.\n",
      "\n",
      "For example, when doing 'df[col].method(value, inplace=True)', try using 'df.method({col: value}, inplace=True)' or df[col] = df[col].method(value) instead, to perform the operation inplace on the original object.\n",
      "\n",
      "\n",
      "  dp['White_Blood_Cells'].fillna(7456,inplace=True)\n"
     ]
    }
   ],
   "source": [
    "dp['White_Blood_Cells'].fillna(7456,inplace=True)"
   ]
  },
  {
   "cell_type": "code",
   "execution_count": 28,
   "metadata": {},
   "outputs": [
    {
     "data": {
      "text/plain": [
       "Age                  0\n",
       "Gender               0\n",
       "Blood_Pressure       0\n",
       "Cholesterol          0\n",
       "Glucose              0\n",
       "Smoking              0\n",
       "Alcohol_Intake       0\n",
       "Obesity              0\n",
       "Exercise             0\n",
       "Disease              0\n",
       "Heart_Rate           0\n",
       "Respiratory_Rate     0\n",
       "BMI                  0\n",
       "Family_History       0\n",
       "Sleep_Hours          0\n",
       "Daily_Steps          0\n",
       "Sodium_Level         0\n",
       "Potassium_Level      0\n",
       "Hemoglobin           0\n",
       "White_Blood_Cells    0\n",
       "Output               0\n",
       "dtype: int64"
      ]
     },
     "execution_count": 28,
     "metadata": {},
     "output_type": "execute_result"
    }
   ],
   "source": [
    "dp.isna().sum()"
   ]
  },
  {
   "cell_type": "code",
   "execution_count": 29,
   "metadata": {},
   "outputs": [],
   "source": [
    "from sklearn.preprocessing import LabelEncoder\n",
    "l=LabelEncoder()"
   ]
  },
  {
   "cell_type": "code",
   "execution_count": 30,
   "metadata": {},
   "outputs": [
    {
     "data": {
      "text/html": [
       "<div>\n",
       "<style scoped>\n",
       "    .dataframe tbody tr th:only-of-type {\n",
       "        vertical-align: middle;\n",
       "    }\n",
       "\n",
       "    .dataframe tbody tr th {\n",
       "        vertical-align: top;\n",
       "    }\n",
       "\n",
       "    .dataframe thead th {\n",
       "        text-align: right;\n",
       "    }\n",
       "</style>\n",
       "<table border=\"1\" class=\"dataframe\">\n",
       "  <thead>\n",
       "    <tr style=\"text-align: right;\">\n",
       "      <th></th>\n",
       "      <th>Age</th>\n",
       "      <th>Blood_Pressure</th>\n",
       "      <th>Glucose</th>\n",
       "      <th>Heart_Rate</th>\n",
       "      <th>Respiratory_Rate</th>\n",
       "      <th>BMI</th>\n",
       "      <th>Sleep_Hours</th>\n",
       "      <th>Daily_Steps</th>\n",
       "      <th>Sodium_Level</th>\n",
       "      <th>Potassium_Level</th>\n",
       "      <th>Hemoglobin</th>\n",
       "      <th>White_Blood_Cells</th>\n",
       "    </tr>\n",
       "  </thead>\n",
       "  <tbody>\n",
       "    <tr>\n",
       "      <th>count</th>\n",
       "      <td>400.00000</td>\n",
       "      <td>400.000000</td>\n",
       "      <td>400.000000</td>\n",
       "      <td>400.000000</td>\n",
       "      <td>400.000000</td>\n",
       "      <td>400.000000</td>\n",
       "      <td>400.000000</td>\n",
       "      <td>400.000000</td>\n",
       "      <td>400.00000</td>\n",
       "      <td>400.000000</td>\n",
       "      <td>400.000000</td>\n",
       "      <td>400.000000</td>\n",
       "    </tr>\n",
       "    <tr>\n",
       "      <th>mean</th>\n",
       "      <td>50.81750</td>\n",
       "      <td>127.567500</td>\n",
       "      <td>137.060000</td>\n",
       "      <td>90.962500</td>\n",
       "      <td>20.102500</td>\n",
       "      <td>28.645000</td>\n",
       "      <td>6.552500</td>\n",
       "      <td>7980.332500</td>\n",
       "      <td>139.16250</td>\n",
       "      <td>4.000000</td>\n",
       "      <td>13.335000</td>\n",
       "      <td>7456.112500</td>\n",
       "    </tr>\n",
       "    <tr>\n",
       "      <th>std</th>\n",
       "      <td>15.87764</td>\n",
       "      <td>25.990271</td>\n",
       "      <td>36.550599</td>\n",
       "      <td>15.854005</td>\n",
       "      <td>4.896113</td>\n",
       "      <td>6.102629</td>\n",
       "      <td>1.588569</td>\n",
       "      <td>3774.256605</td>\n",
       "      <td>5.37898</td>\n",
       "      <td>0.785201</td>\n",
       "      <td>2.284913</td>\n",
       "      <td>1850.435874</td>\n",
       "    </tr>\n",
       "    <tr>\n",
       "      <th>min</th>\n",
       "      <td>20.00000</td>\n",
       "      <td>80.000000</td>\n",
       "      <td>71.000000</td>\n",
       "      <td>60.000000</td>\n",
       "      <td>12.000000</td>\n",
       "      <td>18.000000</td>\n",
       "      <td>4.000000</td>\n",
       "      <td>1028.000000</td>\n",
       "      <td>130.00000</td>\n",
       "      <td>3.000000</td>\n",
       "      <td>10.000000</td>\n",
       "      <td>4051.000000</td>\n",
       "    </tr>\n",
       "    <tr>\n",
       "      <th>25%</th>\n",
       "      <td>38.00000</td>\n",
       "      <td>107.000000</td>\n",
       "      <td>107.000000</td>\n",
       "      <td>79.000000</td>\n",
       "      <td>16.000000</td>\n",
       "      <td>24.000000</td>\n",
       "      <td>5.000000</td>\n",
       "      <td>4878.000000</td>\n",
       "      <td>135.00000</td>\n",
       "      <td>3.000000</td>\n",
       "      <td>11.000000</td>\n",
       "      <td>5955.250000</td>\n",
       "    </tr>\n",
       "    <tr>\n",
       "      <th>50%</th>\n",
       "      <td>51.00000</td>\n",
       "      <td>128.000000</td>\n",
       "      <td>137.000000</td>\n",
       "      <td>91.000000</td>\n",
       "      <td>20.000000</td>\n",
       "      <td>29.000000</td>\n",
       "      <td>7.000000</td>\n",
       "      <td>7980.000000</td>\n",
       "      <td>139.00000</td>\n",
       "      <td>4.000000</td>\n",
       "      <td>13.000000</td>\n",
       "      <td>7456.000000</td>\n",
       "    </tr>\n",
       "    <tr>\n",
       "      <th>75%</th>\n",
       "      <td>63.00000</td>\n",
       "      <td>147.000000</td>\n",
       "      <td>168.000000</td>\n",
       "      <td>103.250000</td>\n",
       "      <td>24.000000</td>\n",
       "      <td>34.000000</td>\n",
       "      <td>8.000000</td>\n",
       "      <td>11065.000000</td>\n",
       "      <td>143.25000</td>\n",
       "      <td>5.000000</td>\n",
       "      <td>15.000000</td>\n",
       "      <td>8847.750000</td>\n",
       "    </tr>\n",
       "    <tr>\n",
       "      <th>max</th>\n",
       "      <td>79.00000</td>\n",
       "      <td>179.000000</td>\n",
       "      <td>199.000000</td>\n",
       "      <td>119.000000</td>\n",
       "      <td>29.000000</td>\n",
       "      <td>39.000000</td>\n",
       "      <td>9.000000</td>\n",
       "      <td>14947.000000</td>\n",
       "      <td>149.00000</td>\n",
       "      <td>5.000000</td>\n",
       "      <td>17.000000</td>\n",
       "      <td>10993.000000</td>\n",
       "    </tr>\n",
       "  </tbody>\n",
       "</table>\n",
       "</div>"
      ],
      "text/plain": [
       "             Age  Blood_Pressure     Glucose  Heart_Rate  Respiratory_Rate  \\\n",
       "count  400.00000      400.000000  400.000000  400.000000        400.000000   \n",
       "mean    50.81750      127.567500  137.060000   90.962500         20.102500   \n",
       "std     15.87764       25.990271   36.550599   15.854005          4.896113   \n",
       "min     20.00000       80.000000   71.000000   60.000000         12.000000   \n",
       "25%     38.00000      107.000000  107.000000   79.000000         16.000000   \n",
       "50%     51.00000      128.000000  137.000000   91.000000         20.000000   \n",
       "75%     63.00000      147.000000  168.000000  103.250000         24.000000   \n",
       "max     79.00000      179.000000  199.000000  119.000000         29.000000   \n",
       "\n",
       "              BMI  Sleep_Hours   Daily_Steps  Sodium_Level  Potassium_Level  \\\n",
       "count  400.000000   400.000000    400.000000     400.00000       400.000000   \n",
       "mean    28.645000     6.552500   7980.332500     139.16250         4.000000   \n",
       "std      6.102629     1.588569   3774.256605       5.37898         0.785201   \n",
       "min     18.000000     4.000000   1028.000000     130.00000         3.000000   \n",
       "25%     24.000000     5.000000   4878.000000     135.00000         3.000000   \n",
       "50%     29.000000     7.000000   7980.000000     139.00000         4.000000   \n",
       "75%     34.000000     8.000000  11065.000000     143.25000         5.000000   \n",
       "max     39.000000     9.000000  14947.000000     149.00000         5.000000   \n",
       "\n",
       "       Hemoglobin  White_Blood_Cells  \n",
       "count  400.000000         400.000000  \n",
       "mean    13.335000        7456.112500  \n",
       "std      2.284913        1850.435874  \n",
       "min     10.000000        4051.000000  \n",
       "25%     11.000000        5955.250000  \n",
       "50%     13.000000        7456.000000  \n",
       "75%     15.000000        8847.750000  \n",
       "max     17.000000       10993.000000  "
      ]
     },
     "execution_count": 30,
     "metadata": {},
     "output_type": "execute_result"
    }
   ],
   "source": [
    "dp.describe()"
   ]
  },
  {
   "cell_type": "code",
   "execution_count": 31,
   "metadata": {},
   "outputs": [],
   "source": [
    "dp['Age']=dp['Age'].astype(int)"
   ]
  },
  {
   "cell_type": "code",
   "execution_count": 32,
   "metadata": {},
   "outputs": [],
   "source": [
    "dp['Blood_Pressure']=dp['Blood_Pressure'].astype(int)"
   ]
  },
  {
   "cell_type": "code",
   "execution_count": 33,
   "metadata": {},
   "outputs": [],
   "source": [
    "dp['Glucose']=dp['Glucose'].astype(int)"
   ]
  },
  {
   "cell_type": "code",
   "execution_count": 34,
   "metadata": {},
   "outputs": [],
   "source": [
    "dp['Heart_Rate']=dp['Heart_Rate'].astype(int)"
   ]
  },
  {
   "cell_type": "code",
   "execution_count": 35,
   "metadata": {},
   "outputs": [],
   "source": [
    "dp['Respiratory_Rate']=dp['Respiratory_Rate'].astype(int)"
   ]
  },
  {
   "cell_type": "code",
   "execution_count": 36,
   "metadata": {},
   "outputs": [],
   "source": [
    "dp['BMI']=dp['BMI'].astype(int)"
   ]
  },
  {
   "cell_type": "code",
   "execution_count": 37,
   "metadata": {},
   "outputs": [],
   "source": [
    "dp['Sleep_Hours']=dp['Sleep_Hours'].astype(int)"
   ]
  },
  {
   "cell_type": "code",
   "execution_count": 38,
   "metadata": {},
   "outputs": [],
   "source": [
    "dp['Daily_Steps']=dp['Daily_Steps'].astype(int)"
   ]
  },
  {
   "cell_type": "code",
   "execution_count": 39,
   "metadata": {},
   "outputs": [],
   "source": [
    "dp['Sodium_Level']=dp['Sodium_Level'].astype(int)"
   ]
  },
  {
   "cell_type": "code",
   "execution_count": 40,
   "metadata": {},
   "outputs": [],
   "source": [
    "dp['Potassium_Level']=dp['Potassium_Level'].astype(int)"
   ]
  },
  {
   "cell_type": "code",
   "execution_count": 41,
   "metadata": {},
   "outputs": [],
   "source": [
    "dp['Hemoglobin']=dp['Hemoglobin'].astype(int)"
   ]
  },
  {
   "cell_type": "code",
   "execution_count": 42,
   "metadata": {},
   "outputs": [],
   "source": [
    "dp['White_Blood_Cells']=dp['White_Blood_Cells'].astype(int)"
   ]
  },
  {
   "cell_type": "code",
   "execution_count": 43,
   "metadata": {},
   "outputs": [],
   "source": [
    "dp['Gender']=l.fit_transform(dp['Gender'])"
   ]
  },
  {
   "cell_type": "code",
   "execution_count": 44,
   "metadata": {},
   "outputs": [],
   "source": [
    "dp['Cholesterol']=l.fit_transform(dp['Cholesterol'])"
   ]
  },
  {
   "cell_type": "code",
   "execution_count": 45,
   "metadata": {},
   "outputs": [],
   "source": [
    "dp['Smoking']=l.fit_transform(dp['Smoking'])"
   ]
  },
  {
   "cell_type": "code",
   "execution_count": 46,
   "metadata": {},
   "outputs": [],
   "source": [
    "dp['Alcohol_Intake']=l.fit_transform(dp['Alcohol_Intake'])"
   ]
  },
  {
   "cell_type": "code",
   "execution_count": 47,
   "metadata": {},
   "outputs": [],
   "source": [
    "dp['Obesity']=l.fit_transform(dp['Obesity'])"
   ]
  },
  {
   "cell_type": "code",
   "execution_count": 48,
   "metadata": {},
   "outputs": [],
   "source": [
    "dp['Exercise']=l.fit_transform(dp['Exercise'])"
   ]
  },
  {
   "cell_type": "code",
   "execution_count": 49,
   "metadata": {},
   "outputs": [],
   "source": [
    "dp['Disease']=l.fit_transform(dp['Disease'])"
   ]
  },
  {
   "cell_type": "code",
   "execution_count": 50,
   "metadata": {},
   "outputs": [],
   "source": [
    "dp['Family_History']=l.fit_transform(dp['Family_History'])"
   ]
  },
  {
   "cell_type": "code",
   "execution_count": 51,
   "metadata": {},
   "outputs": [],
   "source": [
    "dp['Output']=l.fit_transform(dp['Output'])"
   ]
  },
  {
   "cell_type": "code",
   "execution_count": 52,
   "metadata": {},
   "outputs": [
    {
     "name": "stdout",
     "output_type": "stream",
     "text": [
      "<class 'pandas.core.frame.DataFrame'>\n",
      "RangeIndex: 400 entries, 0 to 399\n",
      "Data columns (total 21 columns):\n",
      " #   Column             Non-Null Count  Dtype\n",
      "---  ------             --------------  -----\n",
      " 0   Age                400 non-null    int64\n",
      " 1   Gender             400 non-null    int64\n",
      " 2   Blood_Pressure     400 non-null    int64\n",
      " 3   Cholesterol        400 non-null    int64\n",
      " 4   Glucose            400 non-null    int64\n",
      " 5   Smoking            400 non-null    int64\n",
      " 6   Alcohol_Intake     400 non-null    int64\n",
      " 7   Obesity            400 non-null    int64\n",
      " 8   Exercise           400 non-null    int64\n",
      " 9   Disease            400 non-null    int64\n",
      " 10  Heart_Rate         400 non-null    int64\n",
      " 11  Respiratory_Rate   400 non-null    int64\n",
      " 12  BMI                400 non-null    int64\n",
      " 13  Family_History     400 non-null    int64\n",
      " 14  Sleep_Hours        400 non-null    int64\n",
      " 15  Daily_Steps        400 non-null    int64\n",
      " 16  Sodium_Level       400 non-null    int64\n",
      " 17  Potassium_Level    400 non-null    int64\n",
      " 18  Hemoglobin         400 non-null    int64\n",
      " 19  White_Blood_Cells  400 non-null    int64\n",
      " 20  Output             400 non-null    int64\n",
      "dtypes: int64(21)\n",
      "memory usage: 65.8 KB\n"
     ]
    }
   ],
   "source": [
    "dp.info()"
   ]
  },
  {
   "cell_type": "code",
   "execution_count": 53,
   "metadata": {},
   "outputs": [
    {
     "data": {
      "text/html": [
       "<div>\n",
       "<style scoped>\n",
       "    .dataframe tbody tr th:only-of-type {\n",
       "        vertical-align: middle;\n",
       "    }\n",
       "\n",
       "    .dataframe tbody tr th {\n",
       "        vertical-align: top;\n",
       "    }\n",
       "\n",
       "    .dataframe thead th {\n",
       "        text-align: right;\n",
       "    }\n",
       "</style>\n",
       "<table border=\"1\" class=\"dataframe\">\n",
       "  <thead>\n",
       "    <tr style=\"text-align: right;\">\n",
       "      <th></th>\n",
       "      <th>Age</th>\n",
       "      <th>Gender</th>\n",
       "      <th>Blood_Pressure</th>\n",
       "      <th>Cholesterol</th>\n",
       "      <th>Glucose</th>\n",
       "      <th>Smoking</th>\n",
       "      <th>Alcohol_Intake</th>\n",
       "      <th>Obesity</th>\n",
       "      <th>Exercise</th>\n",
       "      <th>Disease</th>\n",
       "      <th>...</th>\n",
       "      <th>Respiratory_Rate</th>\n",
       "      <th>BMI</th>\n",
       "      <th>Family_History</th>\n",
       "      <th>Sleep_Hours</th>\n",
       "      <th>Daily_Steps</th>\n",
       "      <th>Sodium_Level</th>\n",
       "      <th>Potassium_Level</th>\n",
       "      <th>Hemoglobin</th>\n",
       "      <th>White_Blood_Cells</th>\n",
       "      <th>Output</th>\n",
       "    </tr>\n",
       "  </thead>\n",
       "  <tbody>\n",
       "    <tr>\n",
       "      <th>0</th>\n",
       "      <td>70</td>\n",
       "      <td>1</td>\n",
       "      <td>92</td>\n",
       "      <td>0</td>\n",
       "      <td>78</td>\n",
       "      <td>1</td>\n",
       "      <td>0</td>\n",
       "      <td>0</td>\n",
       "      <td>2</td>\n",
       "      <td>1</td>\n",
       "      <td>...</td>\n",
       "      <td>20</td>\n",
       "      <td>38</td>\n",
       "      <td>1</td>\n",
       "      <td>4</td>\n",
       "      <td>5458</td>\n",
       "      <td>133</td>\n",
       "      <td>5</td>\n",
       "      <td>14</td>\n",
       "      <td>7456</td>\n",
       "      <td>2</td>\n",
       "    </tr>\n",
       "    <tr>\n",
       "      <th>1</th>\n",
       "      <td>32</td>\n",
       "      <td>0</td>\n",
       "      <td>128</td>\n",
       "      <td>1</td>\n",
       "      <td>91</td>\n",
       "      <td>1</td>\n",
       "      <td>1</td>\n",
       "      <td>2</td>\n",
       "      <td>1</td>\n",
       "      <td>3</td>\n",
       "      <td>...</td>\n",
       "      <td>29</td>\n",
       "      <td>25</td>\n",
       "      <td>1</td>\n",
       "      <td>7</td>\n",
       "      <td>12061</td>\n",
       "      <td>141</td>\n",
       "      <td>4</td>\n",
       "      <td>12</td>\n",
       "      <td>6620</td>\n",
       "      <td>3</td>\n",
       "    </tr>\n",
       "    <tr>\n",
       "      <th>2</th>\n",
       "      <td>38</td>\n",
       "      <td>1</td>\n",
       "      <td>133</td>\n",
       "      <td>2</td>\n",
       "      <td>158</td>\n",
       "      <td>1</td>\n",
       "      <td>1</td>\n",
       "      <td>0</td>\n",
       "      <td>1</td>\n",
       "      <td>3</td>\n",
       "      <td>...</td>\n",
       "      <td>25</td>\n",
       "      <td>36</td>\n",
       "      <td>1</td>\n",
       "      <td>7</td>\n",
       "      <td>10604</td>\n",
       "      <td>139</td>\n",
       "      <td>5</td>\n",
       "      <td>14</td>\n",
       "      <td>6646</td>\n",
       "      <td>0</td>\n",
       "    </tr>\n",
       "    <tr>\n",
       "      <th>3</th>\n",
       "      <td>68</td>\n",
       "      <td>1</td>\n",
       "      <td>86</td>\n",
       "      <td>2</td>\n",
       "      <td>87</td>\n",
       "      <td>1</td>\n",
       "      <td>1</td>\n",
       "      <td>2</td>\n",
       "      <td>1</td>\n",
       "      <td>3</td>\n",
       "      <td>...</td>\n",
       "      <td>15</td>\n",
       "      <td>39</td>\n",
       "      <td>1</td>\n",
       "      <td>5</td>\n",
       "      <td>1667</td>\n",
       "      <td>142</td>\n",
       "      <td>4</td>\n",
       "      <td>13</td>\n",
       "      <td>8865</td>\n",
       "      <td>4</td>\n",
       "    </tr>\n",
       "    <tr>\n",
       "      <th>4</th>\n",
       "      <td>25</td>\n",
       "      <td>1</td>\n",
       "      <td>158</td>\n",
       "      <td>0</td>\n",
       "      <td>184</td>\n",
       "      <td>1</td>\n",
       "      <td>2</td>\n",
       "      <td>2</td>\n",
       "      <td>1</td>\n",
       "      <td>0</td>\n",
       "      <td>...</td>\n",
       "      <td>15</td>\n",
       "      <td>29</td>\n",
       "      <td>1</td>\n",
       "      <td>8</td>\n",
       "      <td>4370</td>\n",
       "      <td>134</td>\n",
       "      <td>5</td>\n",
       "      <td>13</td>\n",
       "      <td>6289</td>\n",
       "      <td>0</td>\n",
       "    </tr>\n",
       "  </tbody>\n",
       "</table>\n",
       "<p>5 rows × 21 columns</p>\n",
       "</div>"
      ],
      "text/plain": [
       "   Age  Gender  Blood_Pressure  Cholesterol  Glucose  Smoking  Alcohol_Intake  \\\n",
       "0   70       1              92            0       78        1               0   \n",
       "1   32       0             128            1       91        1               1   \n",
       "2   38       1             133            2      158        1               1   \n",
       "3   68       1              86            2       87        1               1   \n",
       "4   25       1             158            0      184        1               2   \n",
       "\n",
       "   Obesity  Exercise  Disease  ...  Respiratory_Rate  BMI  Family_History  \\\n",
       "0        0         2        1  ...                20   38               1   \n",
       "1        2         1        3  ...                29   25               1   \n",
       "2        0         1        3  ...                25   36               1   \n",
       "3        2         1        3  ...                15   39               1   \n",
       "4        2         1        0  ...                15   29               1   \n",
       "\n",
       "   Sleep_Hours  Daily_Steps  Sodium_Level  Potassium_Level  Hemoglobin  \\\n",
       "0            4         5458           133                5          14   \n",
       "1            7        12061           141                4          12   \n",
       "2            7        10604           139                5          14   \n",
       "3            5         1667           142                4          13   \n",
       "4            8         4370           134                5          13   \n",
       "\n",
       "   White_Blood_Cells  Output  \n",
       "0               7456       2  \n",
       "1               6620       3  \n",
       "2               6646       0  \n",
       "3               8865       4  \n",
       "4               6289       0  \n",
       "\n",
       "[5 rows x 21 columns]"
      ]
     },
     "execution_count": 53,
     "metadata": {},
     "output_type": "execute_result"
    }
   ],
   "source": [
    "dp.head()"
   ]
  },
  {
   "cell_type": "code",
   "execution_count": 54,
   "metadata": {},
   "outputs": [
    {
     "name": "stdout",
     "output_type": "stream",
     "text": [
      "     Age  Gender  Blood_Pressure  Cholesterol  Glucose  Smoking  \\\n",
      "0     70       1              92            0       78        1   \n",
      "1     32       0             128            1       91        1   \n",
      "2     38       1             133            2      158        1   \n",
      "3     68       1              86            2       87        1   \n",
      "4     25       1             158            0      184        1   \n",
      "..   ...     ...             ...          ...      ...      ...   \n",
      "395   51       0             145            1      145        0   \n",
      "396   21       1             120            0      170        1   \n",
      "397   74       1             124            2       83        0   \n",
      "398   27       0              94            1      137        1   \n",
      "399   67       1             128            2      193        1   \n",
      "\n",
      "     Alcohol_Intake  Obesity  Exercise  Disease  Heart_Rate  Respiratory_Rate  \\\n",
      "0                 0        0         2        1         113                20   \n",
      "1                 1        2         1        3         109                29   \n",
      "2                 1        0         1        3          80                25   \n",
      "3                 1        2         1        3          81                15   \n",
      "4                 2        2         1        0          80                15   \n",
      "..              ...      ...       ...      ...         ...               ...   \n",
      "395               0        2         1        2          74                19   \n",
      "396               1        1         2        2          76                19   \n",
      "397               1        2         2        3         109                12   \n",
      "398               1        3         2        1          96                18   \n",
      "399               1        2         2        2          72                17   \n",
      "\n",
      "     BMI  Family_History  Sleep_Hours  Daily_Steps  Sodium_Level  \\\n",
      "0     38               1            4         5458           133   \n",
      "1     25               1            7        12061           141   \n",
      "2     36               1            7        10604           139   \n",
      "3     39               1            5         1667           142   \n",
      "4     29               1            8         4370           134   \n",
      "..   ...             ...          ...          ...           ...   \n",
      "395   36               0            8        13489           138   \n",
      "396   33               1            8         7980           141   \n",
      "397   24               1            8        11602           134   \n",
      "398   25               1            7         5987           140   \n",
      "399   35               0            5         7597           149   \n",
      "\n",
      "     Potassium_Level  Hemoglobin  White_Blood_Cells  \n",
      "0                  5          14               7456  \n",
      "1                  4          12               6620  \n",
      "2                  5          14               6646  \n",
      "3                  4          13               8865  \n",
      "4                  5          13               6289  \n",
      "..               ...         ...                ...  \n",
      "395                4          12               7456  \n",
      "396                4          13              10488  \n",
      "397                3          15               7231  \n",
      "398                3          17               7456  \n",
      "399                3          15               7983  \n",
      "\n",
      "[400 rows x 20 columns]\n"
     ]
    }
   ],
   "source": [
    "x=dp.drop(['Output'],axis=1)\n",
    "print(x)"
   ]
  },
  {
   "cell_type": "code",
   "execution_count": 55,
   "metadata": {},
   "outputs": [
    {
     "name": "stdout",
     "output_type": "stream",
     "text": [
      "0      2\n",
      "1      3\n",
      "2      0\n",
      "3      4\n",
      "4      0\n",
      "      ..\n",
      "395    0\n",
      "396    0\n",
      "397    2\n",
      "398    3\n",
      "399    0\n",
      "Name: Output, Length: 400, dtype: int64\n"
     ]
    }
   ],
   "source": [
    "y=dp['Output']\n",
    "print(y)"
   ]
  },
  {
   "cell_type": "code",
   "execution_count": 56,
   "metadata": {},
   "outputs": [],
   "source": [
    "from sklearn.model_selection import train_test_split"
   ]
  },
  {
   "cell_type": "code",
   "execution_count": 57,
   "metadata": {},
   "outputs": [],
   "source": [
    "xtrain,xtest,ytrain,ytest=train_test_split(x,y,test_size=0.2)"
   ]
  },
  {
   "cell_type": "code",
   "execution_count": 58,
   "metadata": {},
   "outputs": [
    {
     "name": "stdout",
     "output_type": "stream",
     "text": [
      "     Age  Gender  Blood_Pressure  Cholesterol  Glucose  Smoking  \\\n",
      "336   56       0             153            2      185        1   \n",
      "377   69       1             105            0       76        1   \n",
      "335   30       1             128            2      116        1   \n",
      "376   43       1             111            0      141        0   \n",
      "132   22       0              94            0      101        1   \n",
      "..   ...     ...             ...          ...      ...      ...   \n",
      "58    54       1              99            2      198        0   \n",
      "203   78       0             137            0      173        1   \n",
      "81    64       1             138            2      137        1   \n",
      "398   27       0              94            1      137        1   \n",
      "185   72       0             130            1      177        0   \n",
      "\n",
      "     Alcohol_Intake  Obesity  Exercise  Disease  Heart_Rate  Respiratory_Rate  \\\n",
      "336               1        2         1        2         108                12   \n",
      "377               2        3         2        3         114                23   \n",
      "335               0        0         1        1          91                22   \n",
      "376               2        3         0        0          71                17   \n",
      "132               0        3         0        2          89                29   \n",
      "..              ...      ...       ...      ...         ...               ...   \n",
      "58                1        2         0        0         101                14   \n",
      "203               2        3         1        2         108                21   \n",
      "81                1        2         0        1          93                28   \n",
      "398               1        3         2        1          96                18   \n",
      "185               2        3         0        2          94                23   \n",
      "\n",
      "     BMI  Family_History  Sleep_Hours  Daily_Steps  Sodium_Level  \\\n",
      "336   27               1            4         8846           133   \n",
      "377   29               1            7         5798           144   \n",
      "335   35               0            4         7980           138   \n",
      "376   31               1            7        14871           149   \n",
      "132   18               0            5        12381           142   \n",
      "..   ...             ...          ...          ...           ...   \n",
      "58    19               0            8         5598           147   \n",
      "203   27               0            6        13598           133   \n",
      "81    30               0            9         2341           130   \n",
      "398   25               1            7         5987           140   \n",
      "185   36               0            7        14231           134   \n",
      "\n",
      "     Potassium_Level  Hemoglobin  White_Blood_Cells  \n",
      "336                5          14               6474  \n",
      "377                5          11               8050  \n",
      "335                5          12               7456  \n",
      "376                3          11               8775  \n",
      "132                3          11               8016  \n",
      "..               ...         ...                ...  \n",
      "58                 5          10               5648  \n",
      "203                3          14               7456  \n",
      "81                 4          13               6176  \n",
      "398                3          17               7456  \n",
      "185                3          11               5724  \n",
      "\n",
      "[320 rows x 20 columns]\n"
     ]
    }
   ],
   "source": [
    "print(xtrain)"
   ]
  },
  {
   "cell_type": "code",
   "execution_count": 59,
   "metadata": {},
   "outputs": [
    {
     "name": "stdout",
     "output_type": "stream",
     "text": [
      "     Age  Gender  Blood_Pressure  Cholesterol  Glucose  Smoking  \\\n",
      "92    51       1             132            2      144        1   \n",
      "22    66       1             128            1      178        1   \n",
      "338   37       0             126            0       94        0   \n",
      "182   35       0             128            0      182        0   \n",
      "337   51       1             119            1       99        0   \n",
      "..   ...     ...             ...          ...      ...      ...   \n",
      "85    53       1             108            1      122        0   \n",
      "80    55       0             149            2      181        1   \n",
      "279   60       0             118            0      165        0   \n",
      "167   53       0              95            0      198        1   \n",
      "43    31       1             177            2      100        0   \n",
      "\n",
      "     Alcohol_Intake  Obesity  Exercise  Disease  Heart_Rate  Respiratory_Rate  \\\n",
      "92                1        3         1        1         103                15   \n",
      "22                0        1         0        0          69                19   \n",
      "338               0        3         2        2          99                17   \n",
      "182               1        2         0        1          99                17   \n",
      "337               0        0         0        2          83                18   \n",
      "..              ...      ...       ...      ...         ...               ...   \n",
      "85                1        0         1        2         109                28   \n",
      "80                0        3         2        2          96                20   \n",
      "279               1        1         2        2          82                18   \n",
      "167               0        2         2        2          96                20   \n",
      "43                2        3         2        2         118                23   \n",
      "\n",
      "     BMI  Family_History  Sleep_Hours  Daily_Steps  Sodium_Level  \\\n",
      "92    29               1            4         1393           135   \n",
      "22    26               0            6        14600           135   \n",
      "338   26               0            7         7980           142   \n",
      "182   20               1            7         7980           139   \n",
      "337   24               1            7         7611           144   \n",
      "..   ...             ...          ...          ...           ...   \n",
      "85    21               1            7        14703           134   \n",
      "80    30               0            6         5277           147   \n",
      "279   32               0            7         6906           131   \n",
      "167   39               1            4         1356           133   \n",
      "43    31               1            7         7980           140   \n",
      "\n",
      "     Potassium_Level  Hemoglobin  White_Blood_Cells  \n",
      "92                 3          15               6332  \n",
      "22                 4          14               8218  \n",
      "338                3          10               7507  \n",
      "182                4          16               6750  \n",
      "337                3          15               7130  \n",
      "..               ...         ...                ...  \n",
      "85                 4          13               6233  \n",
      "80                 4          12               5046  \n",
      "279                5          15               6576  \n",
      "167                5          14               8001  \n",
      "43                 4          10               4656  \n",
      "\n",
      "[80 rows x 20 columns]\n"
     ]
    }
   ],
   "source": [
    "print(xtest)"
   ]
  },
  {
   "cell_type": "code",
   "execution_count": 60,
   "metadata": {},
   "outputs": [
    {
     "name": "stdout",
     "output_type": "stream",
     "text": [
      "336    0\n",
      "377    3\n",
      "335    4\n",
      "376    0\n",
      "132    3\n",
      "      ..\n",
      "58     0\n",
      "203    0\n",
      "81     2\n",
      "398    3\n",
      "185    0\n",
      "Name: Output, Length: 320, dtype: int64\n"
     ]
    }
   ],
   "source": [
    "print(ytrain)"
   ]
  },
  {
   "cell_type": "code",
   "execution_count": 61,
   "metadata": {},
   "outputs": [
    {
     "name": "stdout",
     "output_type": "stream",
     "text": [
      "92     0\n",
      "22     0\n",
      "338    3\n",
      "182    0\n",
      "337    3\n",
      "      ..\n",
      "85     2\n",
      "80     0\n",
      "279    0\n",
      "167    0\n",
      "43     1\n",
      "Name: Output, Length: 80, dtype: int64\n"
     ]
    }
   ],
   "source": [
    "print(ytest)"
   ]
  },
  {
   "cell_type": "code",
   "execution_count": 62,
   "metadata": {},
   "outputs": [
    {
     "data": {
      "text/html": [
       "<style>#sk-container-id-1 {\n",
       "  /* Definition of color scheme common for light and dark mode */\n",
       "  --sklearn-color-text: #000;\n",
       "  --sklearn-color-text-muted: #666;\n",
       "  --sklearn-color-line: gray;\n",
       "  /* Definition of color scheme for unfitted estimators */\n",
       "  --sklearn-color-unfitted-level-0: #fff5e6;\n",
       "  --sklearn-color-unfitted-level-1: #f6e4d2;\n",
       "  --sklearn-color-unfitted-level-2: #ffe0b3;\n",
       "  --sklearn-color-unfitted-level-3: chocolate;\n",
       "  /* Definition of color scheme for fitted estimators */\n",
       "  --sklearn-color-fitted-level-0: #f0f8ff;\n",
       "  --sklearn-color-fitted-level-1: #d4ebff;\n",
       "  --sklearn-color-fitted-level-2: #b3dbfd;\n",
       "  --sklearn-color-fitted-level-3: cornflowerblue;\n",
       "\n",
       "  /* Specific color for light theme */\n",
       "  --sklearn-color-text-on-default-background: var(--sg-text-color, var(--theme-code-foreground, var(--jp-content-font-color1, black)));\n",
       "  --sklearn-color-background: var(--sg-background-color, var(--theme-background, var(--jp-layout-color0, white)));\n",
       "  --sklearn-color-border-box: var(--sg-text-color, var(--theme-code-foreground, var(--jp-content-font-color1, black)));\n",
       "  --sklearn-color-icon: #696969;\n",
       "\n",
       "  @media (prefers-color-scheme: dark) {\n",
       "    /* Redefinition of color scheme for dark theme */\n",
       "    --sklearn-color-text-on-default-background: var(--sg-text-color, var(--theme-code-foreground, var(--jp-content-font-color1, white)));\n",
       "    --sklearn-color-background: var(--sg-background-color, var(--theme-background, var(--jp-layout-color0, #111)));\n",
       "    --sklearn-color-border-box: var(--sg-text-color, var(--theme-code-foreground, var(--jp-content-font-color1, white)));\n",
       "    --sklearn-color-icon: #878787;\n",
       "  }\n",
       "}\n",
       "\n",
       "#sk-container-id-1 {\n",
       "  color: var(--sklearn-color-text);\n",
       "}\n",
       "\n",
       "#sk-container-id-1 pre {\n",
       "  padding: 0;\n",
       "}\n",
       "\n",
       "#sk-container-id-1 input.sk-hidden--visually {\n",
       "  border: 0;\n",
       "  clip: rect(1px 1px 1px 1px);\n",
       "  clip: rect(1px, 1px, 1px, 1px);\n",
       "  height: 1px;\n",
       "  margin: -1px;\n",
       "  overflow: hidden;\n",
       "  padding: 0;\n",
       "  position: absolute;\n",
       "  width: 1px;\n",
       "}\n",
       "\n",
       "#sk-container-id-1 div.sk-dashed-wrapped {\n",
       "  border: 1px dashed var(--sklearn-color-line);\n",
       "  margin: 0 0.4em 0.5em 0.4em;\n",
       "  box-sizing: border-box;\n",
       "  padding-bottom: 0.4em;\n",
       "  background-color: var(--sklearn-color-background);\n",
       "}\n",
       "\n",
       "#sk-container-id-1 div.sk-container {\n",
       "  /* jupyter's `normalize.less` sets `[hidden] { display: none; }`\n",
       "     but bootstrap.min.css set `[hidden] { display: none !important; }`\n",
       "     so we also need the `!important` here to be able to override the\n",
       "     default hidden behavior on the sphinx rendered scikit-learn.org.\n",
       "     See: https://github.com/scikit-learn/scikit-learn/issues/21755 */\n",
       "  display: inline-block !important;\n",
       "  position: relative;\n",
       "}\n",
       "\n",
       "#sk-container-id-1 div.sk-text-repr-fallback {\n",
       "  display: none;\n",
       "}\n",
       "\n",
       "div.sk-parallel-item,\n",
       "div.sk-serial,\n",
       "div.sk-item {\n",
       "  /* draw centered vertical line to link estimators */\n",
       "  background-image: linear-gradient(var(--sklearn-color-text-on-default-background), var(--sklearn-color-text-on-default-background));\n",
       "  background-size: 2px 100%;\n",
       "  background-repeat: no-repeat;\n",
       "  background-position: center center;\n",
       "}\n",
       "\n",
       "/* Parallel-specific style estimator block */\n",
       "\n",
       "#sk-container-id-1 div.sk-parallel-item::after {\n",
       "  content: \"\";\n",
       "  width: 100%;\n",
       "  border-bottom: 2px solid var(--sklearn-color-text-on-default-background);\n",
       "  flex-grow: 1;\n",
       "}\n",
       "\n",
       "#sk-container-id-1 div.sk-parallel {\n",
       "  display: flex;\n",
       "  align-items: stretch;\n",
       "  justify-content: center;\n",
       "  background-color: var(--sklearn-color-background);\n",
       "  position: relative;\n",
       "}\n",
       "\n",
       "#sk-container-id-1 div.sk-parallel-item {\n",
       "  display: flex;\n",
       "  flex-direction: column;\n",
       "}\n",
       "\n",
       "#sk-container-id-1 div.sk-parallel-item:first-child::after {\n",
       "  align-self: flex-end;\n",
       "  width: 50%;\n",
       "}\n",
       "\n",
       "#sk-container-id-1 div.sk-parallel-item:last-child::after {\n",
       "  align-self: flex-start;\n",
       "  width: 50%;\n",
       "}\n",
       "\n",
       "#sk-container-id-1 div.sk-parallel-item:only-child::after {\n",
       "  width: 0;\n",
       "}\n",
       "\n",
       "/* Serial-specific style estimator block */\n",
       "\n",
       "#sk-container-id-1 div.sk-serial {\n",
       "  display: flex;\n",
       "  flex-direction: column;\n",
       "  align-items: center;\n",
       "  background-color: var(--sklearn-color-background);\n",
       "  padding-right: 1em;\n",
       "  padding-left: 1em;\n",
       "}\n",
       "\n",
       "\n",
       "/* Toggleable style: style used for estimator/Pipeline/ColumnTransformer box that is\n",
       "clickable and can be expanded/collapsed.\n",
       "- Pipeline and ColumnTransformer use this feature and define the default style\n",
       "- Estimators will overwrite some part of the style using the `sk-estimator` class\n",
       "*/\n",
       "\n",
       "/* Pipeline and ColumnTransformer style (default) */\n",
       "\n",
       "#sk-container-id-1 div.sk-toggleable {\n",
       "  /* Default theme specific background. It is overwritten whether we have a\n",
       "  specific estimator or a Pipeline/ColumnTransformer */\n",
       "  background-color: var(--sklearn-color-background);\n",
       "}\n",
       "\n",
       "/* Toggleable label */\n",
       "#sk-container-id-1 label.sk-toggleable__label {\n",
       "  cursor: pointer;\n",
       "  display: flex;\n",
       "  width: 100%;\n",
       "  margin-bottom: 0;\n",
       "  padding: 0.5em;\n",
       "  box-sizing: border-box;\n",
       "  text-align: center;\n",
       "  align-items: start;\n",
       "  justify-content: space-between;\n",
       "  gap: 0.5em;\n",
       "}\n",
       "\n",
       "#sk-container-id-1 label.sk-toggleable__label .caption {\n",
       "  font-size: 0.6rem;\n",
       "  font-weight: lighter;\n",
       "  color: var(--sklearn-color-text-muted);\n",
       "}\n",
       "\n",
       "#sk-container-id-1 label.sk-toggleable__label-arrow:before {\n",
       "  /* Arrow on the left of the label */\n",
       "  content: \"▸\";\n",
       "  float: left;\n",
       "  margin-right: 0.25em;\n",
       "  color: var(--sklearn-color-icon);\n",
       "}\n",
       "\n",
       "#sk-container-id-1 label.sk-toggleable__label-arrow:hover:before {\n",
       "  color: var(--sklearn-color-text);\n",
       "}\n",
       "\n",
       "/* Toggleable content - dropdown */\n",
       "\n",
       "#sk-container-id-1 div.sk-toggleable__content {\n",
       "  max-height: 0;\n",
       "  max-width: 0;\n",
       "  overflow: hidden;\n",
       "  text-align: left;\n",
       "  /* unfitted */\n",
       "  background-color: var(--sklearn-color-unfitted-level-0);\n",
       "}\n",
       "\n",
       "#sk-container-id-1 div.sk-toggleable__content.fitted {\n",
       "  /* fitted */\n",
       "  background-color: var(--sklearn-color-fitted-level-0);\n",
       "}\n",
       "\n",
       "#sk-container-id-1 div.sk-toggleable__content pre {\n",
       "  margin: 0.2em;\n",
       "  border-radius: 0.25em;\n",
       "  color: var(--sklearn-color-text);\n",
       "  /* unfitted */\n",
       "  background-color: var(--sklearn-color-unfitted-level-0);\n",
       "}\n",
       "\n",
       "#sk-container-id-1 div.sk-toggleable__content.fitted pre {\n",
       "  /* unfitted */\n",
       "  background-color: var(--sklearn-color-fitted-level-0);\n",
       "}\n",
       "\n",
       "#sk-container-id-1 input.sk-toggleable__control:checked~div.sk-toggleable__content {\n",
       "  /* Expand drop-down */\n",
       "  max-height: 200px;\n",
       "  max-width: 100%;\n",
       "  overflow: auto;\n",
       "}\n",
       "\n",
       "#sk-container-id-1 input.sk-toggleable__control:checked~label.sk-toggleable__label-arrow:before {\n",
       "  content: \"▾\";\n",
       "}\n",
       "\n",
       "/* Pipeline/ColumnTransformer-specific style */\n",
       "\n",
       "#sk-container-id-1 div.sk-label input.sk-toggleable__control:checked~label.sk-toggleable__label {\n",
       "  color: var(--sklearn-color-text);\n",
       "  background-color: var(--sklearn-color-unfitted-level-2);\n",
       "}\n",
       "\n",
       "#sk-container-id-1 div.sk-label.fitted input.sk-toggleable__control:checked~label.sk-toggleable__label {\n",
       "  background-color: var(--sklearn-color-fitted-level-2);\n",
       "}\n",
       "\n",
       "/* Estimator-specific style */\n",
       "\n",
       "/* Colorize estimator box */\n",
       "#sk-container-id-1 div.sk-estimator input.sk-toggleable__control:checked~label.sk-toggleable__label {\n",
       "  /* unfitted */\n",
       "  background-color: var(--sklearn-color-unfitted-level-2);\n",
       "}\n",
       "\n",
       "#sk-container-id-1 div.sk-estimator.fitted input.sk-toggleable__control:checked~label.sk-toggleable__label {\n",
       "  /* fitted */\n",
       "  background-color: var(--sklearn-color-fitted-level-2);\n",
       "}\n",
       "\n",
       "#sk-container-id-1 div.sk-label label.sk-toggleable__label,\n",
       "#sk-container-id-1 div.sk-label label {\n",
       "  /* The background is the default theme color */\n",
       "  color: var(--sklearn-color-text-on-default-background);\n",
       "}\n",
       "\n",
       "/* On hover, darken the color of the background */\n",
       "#sk-container-id-1 div.sk-label:hover label.sk-toggleable__label {\n",
       "  color: var(--sklearn-color-text);\n",
       "  background-color: var(--sklearn-color-unfitted-level-2);\n",
       "}\n",
       "\n",
       "/* Label box, darken color on hover, fitted */\n",
       "#sk-container-id-1 div.sk-label.fitted:hover label.sk-toggleable__label.fitted {\n",
       "  color: var(--sklearn-color-text);\n",
       "  background-color: var(--sklearn-color-fitted-level-2);\n",
       "}\n",
       "\n",
       "/* Estimator label */\n",
       "\n",
       "#sk-container-id-1 div.sk-label label {\n",
       "  font-family: monospace;\n",
       "  font-weight: bold;\n",
       "  display: inline-block;\n",
       "  line-height: 1.2em;\n",
       "}\n",
       "\n",
       "#sk-container-id-1 div.sk-label-container {\n",
       "  text-align: center;\n",
       "}\n",
       "\n",
       "/* Estimator-specific */\n",
       "#sk-container-id-1 div.sk-estimator {\n",
       "  font-family: monospace;\n",
       "  border: 1px dotted var(--sklearn-color-border-box);\n",
       "  border-radius: 0.25em;\n",
       "  box-sizing: border-box;\n",
       "  margin-bottom: 0.5em;\n",
       "  /* unfitted */\n",
       "  background-color: var(--sklearn-color-unfitted-level-0);\n",
       "}\n",
       "\n",
       "#sk-container-id-1 div.sk-estimator.fitted {\n",
       "  /* fitted */\n",
       "  background-color: var(--sklearn-color-fitted-level-0);\n",
       "}\n",
       "\n",
       "/* on hover */\n",
       "#sk-container-id-1 div.sk-estimator:hover {\n",
       "  /* unfitted */\n",
       "  background-color: var(--sklearn-color-unfitted-level-2);\n",
       "}\n",
       "\n",
       "#sk-container-id-1 div.sk-estimator.fitted:hover {\n",
       "  /* fitted */\n",
       "  background-color: var(--sklearn-color-fitted-level-2);\n",
       "}\n",
       "\n",
       "/* Specification for estimator info (e.g. \"i\" and \"?\") */\n",
       "\n",
       "/* Common style for \"i\" and \"?\" */\n",
       "\n",
       ".sk-estimator-doc-link,\n",
       "a:link.sk-estimator-doc-link,\n",
       "a:visited.sk-estimator-doc-link {\n",
       "  float: right;\n",
       "  font-size: smaller;\n",
       "  line-height: 1em;\n",
       "  font-family: monospace;\n",
       "  background-color: var(--sklearn-color-background);\n",
       "  border-radius: 1em;\n",
       "  height: 1em;\n",
       "  width: 1em;\n",
       "  text-decoration: none !important;\n",
       "  margin-left: 0.5em;\n",
       "  text-align: center;\n",
       "  /* unfitted */\n",
       "  border: var(--sklearn-color-unfitted-level-1) 1pt solid;\n",
       "  color: var(--sklearn-color-unfitted-level-1);\n",
       "}\n",
       "\n",
       ".sk-estimator-doc-link.fitted,\n",
       "a:link.sk-estimator-doc-link.fitted,\n",
       "a:visited.sk-estimator-doc-link.fitted {\n",
       "  /* fitted */\n",
       "  border: var(--sklearn-color-fitted-level-1) 1pt solid;\n",
       "  color: var(--sklearn-color-fitted-level-1);\n",
       "}\n",
       "\n",
       "/* On hover */\n",
       "div.sk-estimator:hover .sk-estimator-doc-link:hover,\n",
       ".sk-estimator-doc-link:hover,\n",
       "div.sk-label-container:hover .sk-estimator-doc-link:hover,\n",
       ".sk-estimator-doc-link:hover {\n",
       "  /* unfitted */\n",
       "  background-color: var(--sklearn-color-unfitted-level-3);\n",
       "  color: var(--sklearn-color-background);\n",
       "  text-decoration: none;\n",
       "}\n",
       "\n",
       "div.sk-estimator.fitted:hover .sk-estimator-doc-link.fitted:hover,\n",
       ".sk-estimator-doc-link.fitted:hover,\n",
       "div.sk-label-container:hover .sk-estimator-doc-link.fitted:hover,\n",
       ".sk-estimator-doc-link.fitted:hover {\n",
       "  /* fitted */\n",
       "  background-color: var(--sklearn-color-fitted-level-3);\n",
       "  color: var(--sklearn-color-background);\n",
       "  text-decoration: none;\n",
       "}\n",
       "\n",
       "/* Span, style for the box shown on hovering the info icon */\n",
       ".sk-estimator-doc-link span {\n",
       "  display: none;\n",
       "  z-index: 9999;\n",
       "  position: relative;\n",
       "  font-weight: normal;\n",
       "  right: .2ex;\n",
       "  padding: .5ex;\n",
       "  margin: .5ex;\n",
       "  width: min-content;\n",
       "  min-width: 20ex;\n",
       "  max-width: 50ex;\n",
       "  color: var(--sklearn-color-text);\n",
       "  box-shadow: 2pt 2pt 4pt #999;\n",
       "  /* unfitted */\n",
       "  background: var(--sklearn-color-unfitted-level-0);\n",
       "  border: .5pt solid var(--sklearn-color-unfitted-level-3);\n",
       "}\n",
       "\n",
       ".sk-estimator-doc-link.fitted span {\n",
       "  /* fitted */\n",
       "  background: var(--sklearn-color-fitted-level-0);\n",
       "  border: var(--sklearn-color-fitted-level-3);\n",
       "}\n",
       "\n",
       ".sk-estimator-doc-link:hover span {\n",
       "  display: block;\n",
       "}\n",
       "\n",
       "/* \"?\"-specific style due to the `<a>` HTML tag */\n",
       "\n",
       "#sk-container-id-1 a.estimator_doc_link {\n",
       "  float: right;\n",
       "  font-size: 1rem;\n",
       "  line-height: 1em;\n",
       "  font-family: monospace;\n",
       "  background-color: var(--sklearn-color-background);\n",
       "  border-radius: 1rem;\n",
       "  height: 1rem;\n",
       "  width: 1rem;\n",
       "  text-decoration: none;\n",
       "  /* unfitted */\n",
       "  color: var(--sklearn-color-unfitted-level-1);\n",
       "  border: var(--sklearn-color-unfitted-level-1) 1pt solid;\n",
       "}\n",
       "\n",
       "#sk-container-id-1 a.estimator_doc_link.fitted {\n",
       "  /* fitted */\n",
       "  border: var(--sklearn-color-fitted-level-1) 1pt solid;\n",
       "  color: var(--sklearn-color-fitted-level-1);\n",
       "}\n",
       "\n",
       "/* On hover */\n",
       "#sk-container-id-1 a.estimator_doc_link:hover {\n",
       "  /* unfitted */\n",
       "  background-color: var(--sklearn-color-unfitted-level-3);\n",
       "  color: var(--sklearn-color-background);\n",
       "  text-decoration: none;\n",
       "}\n",
       "\n",
       "#sk-container-id-1 a.estimator_doc_link.fitted:hover {\n",
       "  /* fitted */\n",
       "  background-color: var(--sklearn-color-fitted-level-3);\n",
       "}\n",
       "</style><div id=\"sk-container-id-1\" class=\"sk-top-container\"><div class=\"sk-text-repr-fallback\"><pre>DecisionTreeClassifier()</pre><b>In a Jupyter environment, please rerun this cell to show the HTML representation or trust the notebook. <br />On GitHub, the HTML representation is unable to render, please try loading this page with nbviewer.org.</b></div><div class=\"sk-container\" hidden><div class=\"sk-item\"><div class=\"sk-estimator fitted sk-toggleable\"><input class=\"sk-toggleable__control sk-hidden--visually\" id=\"sk-estimator-id-1\" type=\"checkbox\" checked><label for=\"sk-estimator-id-1\" class=\"sk-toggleable__label fitted sk-toggleable__label-arrow\"><div><div>DecisionTreeClassifier</div></div><div><a class=\"sk-estimator-doc-link fitted\" rel=\"noreferrer\" target=\"_blank\" href=\"https://scikit-learn.org/1.6/modules/generated/sklearn.tree.DecisionTreeClassifier.html\">?<span>Documentation for DecisionTreeClassifier</span></a><span class=\"sk-estimator-doc-link fitted\">i<span>Fitted</span></span></div></label><div class=\"sk-toggleable__content fitted\"><pre>DecisionTreeClassifier()</pre></div> </div></div></div></div>"
      ],
      "text/plain": [
       "DecisionTreeClassifier()"
      ]
     },
     "execution_count": 62,
     "metadata": {},
     "output_type": "execute_result"
    }
   ],
   "source": [
    "from sklearn.tree import DecisionTreeClassifier\n",
    "model=DecisionTreeClassifier()\n",
    "model.fit(xtrain,ytrain)"
   ]
  },
  {
   "cell_type": "code",
   "execution_count": 63,
   "metadata": {},
   "outputs": [
    {
     "data": {
      "text/plain": [
       "array([0, 0, 3, 0, 3, 0, 0, 2, 2, 2, 1, 1, 0, 1, 4, 0, 3, 0, 0, 2, 0, 2,\n",
       "       1, 1, 3, 1, 0, 1, 2, 3, 1, 0, 1, 1, 3, 4, 1, 1, 0, 0, 4, 0, 4, 0,\n",
       "       0, 0, 3, 4, 3, 3, 4, 4, 3, 0, 1, 0, 0, 2, 0, 1, 4, 4, 0, 0, 1, 2,\n",
       "       0, 4, 0, 4, 0, 1, 0, 0, 0, 2, 0, 0, 0, 1])"
      ]
     },
     "execution_count": 63,
     "metadata": {},
     "output_type": "execute_result"
    }
   ],
   "source": [
    "model.predict(xtest)"
   ]
  },
  {
   "cell_type": "code",
   "execution_count": 64,
   "metadata": {},
   "outputs": [
    {
     "name": "stdout",
     "output_type": "stream",
     "text": [
      "92     0\n",
      "22     0\n",
      "338    3\n",
      "182    0\n",
      "337    3\n",
      "      ..\n",
      "85     2\n",
      "80     0\n",
      "279    0\n",
      "167    0\n",
      "43     1\n",
      "Name: Output, Length: 80, dtype: int64\n"
     ]
    }
   ],
   "source": [
    "print(ytest)"
   ]
  },
  {
   "cell_type": "code",
   "execution_count": 65,
   "metadata": {},
   "outputs": [
    {
     "data": {
      "text/plain": [
       "1.0"
      ]
     },
     "execution_count": 65,
     "metadata": {},
     "output_type": "execute_result"
    }
   ],
   "source": [
    "model.score(xtest,ytest)"
   ]
  },
  {
   "cell_type": "code",
   "execution_count": 66,
   "metadata": {},
   "outputs": [
    {
     "name": "stderr",
     "output_type": "stream",
     "text": [
      "c:\\Users\\nihal\\AppData\\Local\\Programs\\Python\\Python311\\Lib\\site-packages\\sklearn\\utils\\validation.py:2739: UserWarning: X does not have valid feature names, but DecisionTreeClassifier was fitted with feature names\n",
      "  warnings.warn(\n"
     ]
    },
    {
     "data": {
      "text/plain": [
       "array([1])"
      ]
     },
     "execution_count": 66,
     "metadata": {},
     "output_type": "execute_result"
    }
   ],
   "source": [
    "import numpy as np\n",
    "sinput=np.array([[61,1,155,2,137,0,0,2,1,2,96,15,29,1,6,4384,143,5,14,10187]])\n",
    "model.predict(sinput)"
   ]
  },
  {
   "cell_type": "code",
   "execution_count": null,
   "metadata": {},
   "outputs": [],
   "source": []
  }
 ],
 "metadata": {
  "kernelspec": {
   "display_name": "Python 3",
   "language": "python",
   "name": "python3"
  },
  "language_info": {
   "codemirror_mode": {
    "name": "ipython",
    "version": 3
   },
   "file_extension": ".py",
   "mimetype": "text/x-python",
   "name": "python",
   "nbconvert_exporter": "python",
   "pygments_lexer": "ipython3",
   "version": "3.11.4"
  }
 },
 "nbformat": 4,
 "nbformat_minor": 2
}
